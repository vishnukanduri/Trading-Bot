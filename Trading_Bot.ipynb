{
  "nbformat": 4,
  "nbformat_minor": 0,
  "metadata": {
    "colab": {
      "name": "Trading Bot",
      "provenance": [],
      "toc_visible": true,
      "authorship_tag": "ABX9TyM5u5PTBj2H2TFU44IFpYNW",
      "include_colab_link": true
    },
    "kernelspec": {
      "name": "python3",
      "display_name": "Python 3"
    },
    "language_info": {
      "name": "python"
    }
  },
  "cells": [
    {
      "cell_type": "markdown",
      "metadata": {
        "id": "view-in-github",
        "colab_type": "text"
      },
      "source": [
        "<a href=\"https://colab.research.google.com/github/vishnukanduri/Trading-Bot/blob/main/Trading_Bot.ipynb\" target=\"_parent\"><img src=\"https://colab.research.google.com/assets/colab-badge.svg\" alt=\"Open In Colab\"/></a>"
      ]
    },
    {
      "cell_type": "markdown",
      "metadata": {
        "id": "3sJrnKcVKb4w"
      },
      "source": [
        "# Install and Import Dependencies"
      ]
    },
    {
      "cell_type": "code",
      "metadata": {
        "colab": {
          "base_uri": "https://localhost:8080/",
          "height": 1000
        },
        "id": "srg8q1O6KlY8",
        "outputId": "ea010a12-640a-4a08-8f0c-64a1bcadb649"
      },
      "source": [
        "# gym requires tensorflow version < 2.0\n",
        "!pip install tensorflow-gpu==1.15.0 tensorflow==1.15.0 stable-baselines gym-anytrading gym"
      ],
      "execution_count": null,
      "outputs": [
        {
          "output_type": "stream",
          "text": [
            "Collecting tensorflow-gpu==1.15.0\n",
            "\u001b[?25l  Downloading https://files.pythonhosted.org/packages/bc/72/d06017379ad4760dc58781c765376ce4ba5dcf3c08d37032eeefbccf1c51/tensorflow_gpu-1.15.0-cp37-cp37m-manylinux2010_x86_64.whl (411.5MB)\n",
            "\u001b[K     |████████████████████████████████| 411.5MB 42kB/s \n",
            "\u001b[?25hCollecting tensorflow==1.15.0\n",
            "\u001b[?25l  Downloading https://files.pythonhosted.org/packages/92/2b/e3af15221da9ff323521565fa3324b0d7c7c5b1d7a8ca66984c8d59cb0ce/tensorflow-1.15.0-cp37-cp37m-manylinux2010_x86_64.whl (412.3MB)\n",
            "\u001b[K     |████████████████████████████████| 412.3MB 42kB/s \n",
            "\u001b[33mWARNING: Retrying (Retry(total=4, connect=None, read=None, redirect=None, status=None)) after connection broken by 'ProtocolError('Connection aborted.', ConnectionResetError(104, 'Connection reset by peer'))': /simple/stable-baselines/\u001b[0m\n",
            "\u001b[?25hCollecting stable-baselines\n",
            "\u001b[?25l  Downloading https://files.pythonhosted.org/packages/b0/48/d428b79bd4360727925f9fe34afeea7a9da381da3dc8748df834a349ad1d/stable_baselines-2.10.1-py3-none-any.whl (240kB)\n",
            "\u001b[K     |████████████████████████████████| 245kB 34.7MB/s \n",
            "\u001b[?25hCollecting gym-anytrading\n",
            "\u001b[?25l  Downloading https://files.pythonhosted.org/packages/12/fe/80fb1c8e74e58dc9854f30dd5fed38038dc3c37208e8bb87fc01520d0499/gym_anytrading-1.2.0-py3-none-any.whl (171kB)\n",
            "\u001b[K     |████████████████████████████████| 174kB 35.9MB/s \n",
            "\u001b[?25hRequirement already satisfied: gym in /usr/local/lib/python3.7/dist-packages (0.17.3)\n",
            "Requirement already satisfied: six>=1.10.0 in /usr/local/lib/python3.7/dist-packages (from tensorflow-gpu==1.15.0) (1.15.0)\n",
            "Requirement already satisfied: google-pasta>=0.1.6 in /usr/local/lib/python3.7/dist-packages (from tensorflow-gpu==1.15.0) (0.2.0)\n",
            "Requirement already satisfied: opt-einsum>=2.3.2 in /usr/local/lib/python3.7/dist-packages (from tensorflow-gpu==1.15.0) (3.3.0)\n",
            "Requirement already satisfied: protobuf>=3.6.1 in /usr/local/lib/python3.7/dist-packages (from tensorflow-gpu==1.15.0) (3.12.4)\n",
            "Requirement already satisfied: grpcio>=1.8.6 in /usr/local/lib/python3.7/dist-packages (from tensorflow-gpu==1.15.0) (1.32.0)\n",
            "Requirement already satisfied: keras-preprocessing>=1.0.5 in /usr/local/lib/python3.7/dist-packages (from tensorflow-gpu==1.15.0) (1.1.2)\n",
            "Requirement already satisfied: absl-py>=0.7.0 in /usr/local/lib/python3.7/dist-packages (from tensorflow-gpu==1.15.0) (0.10.0)\n",
            "Collecting keras-applications>=1.0.8\n",
            "\u001b[?25l  Downloading https://files.pythonhosted.org/packages/71/e3/19762fdfc62877ae9102edf6342d71b28fbfd9dea3d2f96a882ce099b03f/Keras_Applications-1.0.8-py3-none-any.whl (50kB)\n",
            "\u001b[K     |████████████████████████████████| 51kB 4.2MB/s \n",
            "\u001b[?25hRequirement already satisfied: numpy<2.0,>=1.16.0 in /usr/local/lib/python3.7/dist-packages (from tensorflow-gpu==1.15.0) (1.19.5)\n",
            "Collecting tensorboard<1.16.0,>=1.15.0\n",
            "\u001b[?25l  Downloading https://files.pythonhosted.org/packages/1e/e9/d3d747a97f7188f48aa5eda486907f3b345cd409f0a0850468ba867db246/tensorboard-1.15.0-py3-none-any.whl (3.8MB)\n",
            "\u001b[K     |████████████████████████████████| 3.8MB 46.5MB/s \n",
            "\u001b[?25hRequirement already satisfied: wheel>=0.26 in /usr/local/lib/python3.7/dist-packages (from tensorflow-gpu==1.15.0) (0.36.2)\n",
            "Collecting tensorflow-estimator==1.15.1\n",
            "\u001b[?25l  Downloading https://files.pythonhosted.org/packages/de/62/2ee9cd74c9fa2fa450877847ba560b260f5d0fb70ee0595203082dafcc9d/tensorflow_estimator-1.15.1-py2.py3-none-any.whl (503kB)\n",
            "\u001b[K     |████████████████████████████████| 512kB 51.4MB/s \n",
            "\u001b[?25hRequirement already satisfied: wrapt>=1.11.1 in /usr/local/lib/python3.7/dist-packages (from tensorflow-gpu==1.15.0) (1.12.1)\n",
            "Collecting gast==0.2.2\n",
            "  Downloading https://files.pythonhosted.org/packages/4e/35/11749bf99b2d4e3cceb4d55ca22590b0d7c2c62b9de38ac4a4a7f4687421/gast-0.2.2.tar.gz\n",
            "Requirement already satisfied: astor>=0.6.0 in /usr/local/lib/python3.7/dist-packages (from tensorflow-gpu==1.15.0) (0.8.1)\n",
            "Requirement already satisfied: termcolor>=1.1.0 in /usr/local/lib/python3.7/dist-packages (from tensorflow-gpu==1.15.0) (1.1.0)\n",
            "Requirement already satisfied: cloudpickle>=0.5.5 in /usr/local/lib/python3.7/dist-packages (from stable-baselines) (1.3.0)\n",
            "Requirement already satisfied: matplotlib in /usr/local/lib/python3.7/dist-packages (from stable-baselines) (3.2.2)\n",
            "Requirement already satisfied: joblib in /usr/local/lib/python3.7/dist-packages (from stable-baselines) (1.0.1)\n",
            "Requirement already satisfied: pandas in /usr/local/lib/python3.7/dist-packages (from stable-baselines) (1.1.5)\n",
            "Requirement already satisfied: opencv-python in /usr/local/lib/python3.7/dist-packages (from stable-baselines) (4.1.2.30)\n",
            "Requirement already satisfied: scipy in /usr/local/lib/python3.7/dist-packages (from stable-baselines) (1.4.1)\n",
            "Requirement already satisfied: pyglet<=1.5.0,>=1.4.0 in /usr/local/lib/python3.7/dist-packages (from gym) (1.5.0)\n",
            "Requirement already satisfied: setuptools in /usr/local/lib/python3.7/dist-packages (from protobuf>=3.6.1->tensorflow-gpu==1.15.0) (54.0.0)\n",
            "Requirement already satisfied: h5py in /usr/local/lib/python3.7/dist-packages (from keras-applications>=1.0.8->tensorflow-gpu==1.15.0) (2.10.0)\n",
            "Requirement already satisfied: markdown>=2.6.8 in /usr/local/lib/python3.7/dist-packages (from tensorboard<1.16.0,>=1.15.0->tensorflow-gpu==1.15.0) (3.3.4)\n",
            "Requirement already satisfied: werkzeug>=0.11.15 in /usr/local/lib/python3.7/dist-packages (from tensorboard<1.16.0,>=1.15.0->tensorflow-gpu==1.15.0) (1.0.1)\n",
            "Requirement already satisfied: cycler>=0.10 in /usr/local/lib/python3.7/dist-packages (from matplotlib->stable-baselines) (0.10.0)\n",
            "Requirement already satisfied: python-dateutil>=2.1 in /usr/local/lib/python3.7/dist-packages (from matplotlib->stable-baselines) (2.8.1)\n",
            "Requirement already satisfied: kiwisolver>=1.0.1 in /usr/local/lib/python3.7/dist-packages (from matplotlib->stable-baselines) (1.3.1)\n",
            "Requirement already satisfied: pyparsing!=2.0.4,!=2.1.2,!=2.1.6,>=2.0.1 in /usr/local/lib/python3.7/dist-packages (from matplotlib->stable-baselines) (2.4.7)\n",
            "Requirement already satisfied: pytz>=2017.2 in /usr/local/lib/python3.7/dist-packages (from pandas->stable-baselines) (2018.9)\n",
            "Requirement already satisfied: future in /usr/local/lib/python3.7/dist-packages (from pyglet<=1.5.0,>=1.4.0->gym) (0.16.0)\n",
            "Requirement already satisfied: importlib-metadata; python_version < \"3.8\" in /usr/local/lib/python3.7/dist-packages (from markdown>=2.6.8->tensorboard<1.16.0,>=1.15.0->tensorflow-gpu==1.15.0) (3.7.2)\n",
            "Requirement already satisfied: zipp>=0.5 in /usr/local/lib/python3.7/dist-packages (from importlib-metadata; python_version < \"3.8\"->markdown>=2.6.8->tensorboard<1.16.0,>=1.15.0->tensorflow-gpu==1.15.0) (3.4.1)\n",
            "Requirement already satisfied: typing-extensions>=3.6.4; python_version < \"3.8\" in /usr/local/lib/python3.7/dist-packages (from importlib-metadata; python_version < \"3.8\"->markdown>=2.6.8->tensorboard<1.16.0,>=1.15.0->tensorflow-gpu==1.15.0) (3.7.4.3)\n",
            "Building wheels for collected packages: gast\n",
            "  Building wheel for gast (setup.py) ... \u001b[?25l\u001b[?25hdone\n",
            "  Created wheel for gast: filename=gast-0.2.2-cp37-none-any.whl size=7540 sha256=a1fdfaa5100210a856296b1200accb1b752127ea40b299de1c463fd7bbbef16a\n",
            "  Stored in directory: /root/.cache/pip/wheels/5c/2e/7e/a1d4d4fcebe6c381f378ce7743a3ced3699feb89bcfbdadadd\n",
            "Successfully built gast\n",
            "\u001b[31mERROR: tensorflow-probability 0.12.1 has requirement gast>=0.3.2, but you'll have gast 0.2.2 which is incompatible.\u001b[0m\n",
            "Installing collected packages: keras-applications, tensorboard, tensorflow-estimator, gast, tensorflow-gpu, tensorflow, stable-baselines, gym-anytrading\n",
            "  Found existing installation: tensorboard 2.4.1\n",
            "    Uninstalling tensorboard-2.4.1:\n",
            "      Successfully uninstalled tensorboard-2.4.1\n",
            "  Found existing installation: tensorflow-estimator 2.4.0\n",
            "    Uninstalling tensorflow-estimator-2.4.0:\n",
            "      Successfully uninstalled tensorflow-estimator-2.4.0\n",
            "  Found existing installation: gast 0.3.3\n",
            "    Uninstalling gast-0.3.3:\n",
            "      Successfully uninstalled gast-0.3.3\n",
            "  Found existing installation: tensorflow 2.4.1\n",
            "    Uninstalling tensorflow-2.4.1:\n",
            "      Successfully uninstalled tensorflow-2.4.1\n",
            "Successfully installed gast-0.2.2 gym-anytrading-1.2.0 keras-applications-1.0.8 stable-baselines-2.10.1 tensorboard-1.15.0 tensorflow-1.15.0 tensorflow-estimator-1.15.1 tensorflow-gpu-1.15.0\n"
          ],
          "name": "stdout"
        },
        {
          "output_type": "display_data",
          "data": {
            "application/vnd.colab-display-data+json": {
              "pip_warning": {
                "packages": [
                  "gast",
                  "tensorboard",
                  "tensorflow"
                ]
              }
            }
          },
          "metadata": {
            "tags": []
          }
        }
      ]
    },
    {
      "cell_type": "code",
      "metadata": {
        "colab": {
          "base_uri": "https://localhost:8080/",
          "height": 35
        },
        "id": "lROclkhfLzXU",
        "outputId": "d88e3b7e-2019-495c-ae1d-e08b14688977"
      },
      "source": [
        "import tensorflow as tf\n",
        "tf.__version__"
      ],
      "execution_count": null,
      "outputs": [
        {
          "output_type": "execute_result",
          "data": {
            "application/vnd.google.colaboratory.intrinsic+json": {
              "type": "string"
            },
            "text/plain": [
              "'1.15.0'"
            ]
          },
          "metadata": {
            "tags": []
          },
          "execution_count": 1
        }
      ]
    },
    {
      "cell_type": "code",
      "metadata": {
        "id": "HQ_zNm2wMgzN"
      },
      "source": [
        "# Gym stuff by OpenAI\n",
        "# gym_anytrading requires gym \n",
        "import gym\n",
        "# trading environment for RL\n",
        "import gym_anytrading\n",
        "\n",
        "# Stable baselines - Reinforcement learning\n",
        "# DummyVecEnv is a wrapper\n",
        "from stable_baselines.common.vec_env import DummyVecEnv\n",
        "# A2C is a RL model. There are many more models available\n",
        "from stable_baselines import A2C\n",
        "\n",
        "# Processing libraries\n",
        "import pandas as pd\n",
        "import numpy as np\n",
        "from matplotlib import pyplot as plt"
      ],
      "execution_count": null,
      "outputs": []
    },
    {
      "cell_type": "markdown",
      "metadata": {
        "id": "QgLMzyJ4Nfvw"
      },
      "source": [
        "# Bring in Marketwatch GME Data"
      ]
    },
    {
      "cell_type": "code",
      "metadata": {
        "id": "jwHkUAauNaPZ"
      },
      "source": [
        "df = pd.read_csv('/content/GME_Jan 01_Mar 18.csv')"
      ],
      "execution_count": null,
      "outputs": []
    },
    {
      "cell_type": "code",
      "metadata": {
        "colab": {
          "base_uri": "https://localhost:8080/",
          "height": 195
        },
        "id": "WlxEwJNjOPxi",
        "outputId": "8fd07429-8192-4bc5-d1d1-6e908261e2d4"
      },
      "source": [
        "df.head()"
      ],
      "execution_count": null,
      "outputs": [
        {
          "output_type": "execute_result",
          "data": {
            "text/html": [
              "<div>\n",
              "<style scoped>\n",
              "    .dataframe tbody tr th:only-of-type {\n",
              "        vertical-align: middle;\n",
              "    }\n",
              "\n",
              "    .dataframe tbody tr th {\n",
              "        vertical-align: top;\n",
              "    }\n",
              "\n",
              "    .dataframe thead th {\n",
              "        text-align: right;\n",
              "    }\n",
              "</style>\n",
              "<table border=\"1\" class=\"dataframe\">\n",
              "  <thead>\n",
              "    <tr style=\"text-align: right;\">\n",
              "      <th></th>\n",
              "      <th>Date</th>\n",
              "      <th>Open</th>\n",
              "      <th>High</th>\n",
              "      <th>Low</th>\n",
              "      <th>Close</th>\n",
              "      <th>Volume</th>\n",
              "    </tr>\n",
              "  </thead>\n",
              "  <tbody>\n",
              "    <tr>\n",
              "      <th>0</th>\n",
              "      <td>03/18/2021</td>\n",
              "      <td>214.00</td>\n",
              "      <td>218.88</td>\n",
              "      <td>195.65</td>\n",
              "      <td>201.75</td>\n",
              "      <td>11,799,910</td>\n",
              "    </tr>\n",
              "    <tr>\n",
              "      <th>1</th>\n",
              "      <td>03/17/2021</td>\n",
              "      <td>217.84</td>\n",
              "      <td>231.47</td>\n",
              "      <td>204.00</td>\n",
              "      <td>209.81</td>\n",
              "      <td>16,481,590</td>\n",
              "    </tr>\n",
              "    <tr>\n",
              "      <th>2</th>\n",
              "      <td>03/16/2021</td>\n",
              "      <td>203.16</td>\n",
              "      <td>220.70</td>\n",
              "      <td>172.35</td>\n",
              "      <td>208.17</td>\n",
              "      <td>35,422,871</td>\n",
              "    </tr>\n",
              "    <tr>\n",
              "      <th>3</th>\n",
              "      <td>03/15/2021</td>\n",
              "      <td>277.52</td>\n",
              "      <td>283.00</td>\n",
              "      <td>206.00</td>\n",
              "      <td>220.14</td>\n",
              "      <td>24,226,189</td>\n",
              "    </tr>\n",
              "    <tr>\n",
              "      <th>4</th>\n",
              "      <td>03/12/2021</td>\n",
              "      <td>275.00</td>\n",
              "      <td>295.50</td>\n",
              "      <td>262.27</td>\n",
              "      <td>264.50</td>\n",
              "      <td>25,845,900</td>\n",
              "    </tr>\n",
              "  </tbody>\n",
              "</table>\n",
              "</div>"
            ],
            "text/plain": [
              "         Date    Open    High     Low   Close      Volume\n",
              "0  03/18/2021  214.00  218.88  195.65  201.75  11,799,910\n",
              "1  03/17/2021  217.84  231.47  204.00  209.81  16,481,590\n",
              "2  03/16/2021  203.16  220.70  172.35  208.17  35,422,871\n",
              "3  03/15/2021  277.52  283.00  206.00  220.14  24,226,189\n",
              "4  03/12/2021  275.00  295.50  262.27  264.50  25,845,900"
            ]
          },
          "metadata": {
            "tags": []
          },
          "execution_count": 4
        }
      ]
    },
    {
      "cell_type": "code",
      "metadata": {
        "colab": {
          "base_uri": "https://localhost:8080/",
          "height": 225
        },
        "id": "nE4LUj7ktQxl",
        "outputId": "61287437-4ebb-4273-db82-7a2ec5465420"
      },
      "source": [
        "df.sort_values('Date', ascending=True, inplace=True)\n",
        "df.head()"
      ],
      "execution_count": null,
      "outputs": [
        {
          "output_type": "execute_result",
          "data": {
            "text/html": [
              "<div>\n",
              "<style scoped>\n",
              "    .dataframe tbody tr th:only-of-type {\n",
              "        vertical-align: middle;\n",
              "    }\n",
              "\n",
              "    .dataframe tbody tr th {\n",
              "        vertical-align: top;\n",
              "    }\n",
              "\n",
              "    .dataframe thead th {\n",
              "        text-align: right;\n",
              "    }\n",
              "</style>\n",
              "<table border=\"1\" class=\"dataframe\">\n",
              "  <thead>\n",
              "    <tr style=\"text-align: right;\">\n",
              "      <th></th>\n",
              "      <th>Open</th>\n",
              "      <th>High</th>\n",
              "      <th>Low</th>\n",
              "      <th>Close</th>\n",
              "      <th>Volume</th>\n",
              "    </tr>\n",
              "    <tr>\n",
              "      <th>Date</th>\n",
              "      <th></th>\n",
              "      <th></th>\n",
              "      <th></th>\n",
              "      <th></th>\n",
              "      <th></th>\n",
              "    </tr>\n",
              "  </thead>\n",
              "  <tbody>\n",
              "    <tr>\n",
              "      <th>2021-01-04</th>\n",
              "      <td>19.00</td>\n",
              "      <td>19.10</td>\n",
              "      <td>17.15</td>\n",
              "      <td>17.25</td>\n",
              "      <td>10,022,470</td>\n",
              "    </tr>\n",
              "    <tr>\n",
              "      <th>2021-01-05</th>\n",
              "      <td>17.35</td>\n",
              "      <td>18.08</td>\n",
              "      <td>17.23</td>\n",
              "      <td>17.37</td>\n",
              "      <td>4,961,457</td>\n",
              "    </tr>\n",
              "    <tr>\n",
              "      <th>2021-01-06</th>\n",
              "      <td>17.34</td>\n",
              "      <td>18.98</td>\n",
              "      <td>17.33</td>\n",
              "      <td>18.36</td>\n",
              "      <td>6,056,248</td>\n",
              "    </tr>\n",
              "    <tr>\n",
              "      <th>2021-01-07</th>\n",
              "      <td>18.47</td>\n",
              "      <td>19.45</td>\n",
              "      <td>18.02</td>\n",
              "      <td>18.08</td>\n",
              "      <td>6,129,276</td>\n",
              "    </tr>\n",
              "    <tr>\n",
              "      <th>2021-01-08</th>\n",
              "      <td>18.18</td>\n",
              "      <td>18.30</td>\n",
              "      <td>17.08</td>\n",
              "      <td>17.69</td>\n",
              "      <td>6,481,960</td>\n",
              "    </tr>\n",
              "  </tbody>\n",
              "</table>\n",
              "</div>"
            ],
            "text/plain": [
              "             Open   High    Low  Close      Volume\n",
              "Date                                              \n",
              "2021-01-04  19.00  19.10  17.15  17.25  10,022,470\n",
              "2021-01-05  17.35  18.08  17.23  17.37   4,961,457\n",
              "2021-01-06  17.34  18.98  17.33  18.36   6,056,248\n",
              "2021-01-07  18.47  19.45  18.02  18.08   6,129,276\n",
              "2021-01-08  18.18  18.30  17.08  17.69   6,481,960"
            ]
          },
          "metadata": {
            "tags": []
          },
          "execution_count": 48
        }
      ]
    },
    {
      "cell_type": "code",
      "metadata": {
        "colab": {
          "base_uri": "https://localhost:8080/"
        },
        "id": "AmPTIkQAOTix",
        "outputId": "651dc36f-e42a-4821-acc4-10bb6c4da8cb"
      },
      "source": [
        "df.dtypes"
      ],
      "execution_count": null,
      "outputs": [
        {
          "output_type": "execute_result",
          "data": {
            "text/plain": [
              "Date       object\n",
              "Open      float64\n",
              "High      float64\n",
              "Low       float64\n",
              "Close     float64\n",
              "Volume     object\n",
              "dtype: object"
            ]
          },
          "metadata": {
            "tags": []
          },
          "execution_count": 5
        }
      ]
    },
    {
      "cell_type": "code",
      "metadata": {
        "colab": {
          "base_uri": "https://localhost:8080/",
          "height": 225
        },
        "id": "1kvb2zz4Ob_w",
        "outputId": "7b43d5e5-8c2e-47f7-8fde-b04c98437b29"
      },
      "source": [
        "# gym requires date to be in the date dtype\n",
        "df['Date'] = pd.to_datetime(df['Date'])\n",
        "# gym also expects date to be the index\n",
        "df.set_index('Date', inplace=True)\n",
        "df.head()"
      ],
      "execution_count": null,
      "outputs": [
        {
          "output_type": "execute_result",
          "data": {
            "text/html": [
              "<div>\n",
              "<style scoped>\n",
              "    .dataframe tbody tr th:only-of-type {\n",
              "        vertical-align: middle;\n",
              "    }\n",
              "\n",
              "    .dataframe tbody tr th {\n",
              "        vertical-align: top;\n",
              "    }\n",
              "\n",
              "    .dataframe thead th {\n",
              "        text-align: right;\n",
              "    }\n",
              "</style>\n",
              "<table border=\"1\" class=\"dataframe\">\n",
              "  <thead>\n",
              "    <tr style=\"text-align: right;\">\n",
              "      <th></th>\n",
              "      <th>Open</th>\n",
              "      <th>High</th>\n",
              "      <th>Low</th>\n",
              "      <th>Close</th>\n",
              "      <th>Volume</th>\n",
              "    </tr>\n",
              "    <tr>\n",
              "      <th>Date</th>\n",
              "      <th></th>\n",
              "      <th></th>\n",
              "      <th></th>\n",
              "      <th></th>\n",
              "      <th></th>\n",
              "    </tr>\n",
              "  </thead>\n",
              "  <tbody>\n",
              "    <tr>\n",
              "      <th>2021-03-18</th>\n",
              "      <td>214.00</td>\n",
              "      <td>218.88</td>\n",
              "      <td>195.65</td>\n",
              "      <td>201.75</td>\n",
              "      <td>11,799,910</td>\n",
              "    </tr>\n",
              "    <tr>\n",
              "      <th>2021-03-17</th>\n",
              "      <td>217.84</td>\n",
              "      <td>231.47</td>\n",
              "      <td>204.00</td>\n",
              "      <td>209.81</td>\n",
              "      <td>16,481,590</td>\n",
              "    </tr>\n",
              "    <tr>\n",
              "      <th>2021-03-16</th>\n",
              "      <td>203.16</td>\n",
              "      <td>220.70</td>\n",
              "      <td>172.35</td>\n",
              "      <td>208.17</td>\n",
              "      <td>35,422,871</td>\n",
              "    </tr>\n",
              "    <tr>\n",
              "      <th>2021-03-15</th>\n",
              "      <td>277.52</td>\n",
              "      <td>283.00</td>\n",
              "      <td>206.00</td>\n",
              "      <td>220.14</td>\n",
              "      <td>24,226,189</td>\n",
              "    </tr>\n",
              "    <tr>\n",
              "      <th>2021-03-12</th>\n",
              "      <td>275.00</td>\n",
              "      <td>295.50</td>\n",
              "      <td>262.27</td>\n",
              "      <td>264.50</td>\n",
              "      <td>25,845,900</td>\n",
              "    </tr>\n",
              "  </tbody>\n",
              "</table>\n",
              "</div>"
            ],
            "text/plain": [
              "              Open    High     Low   Close      Volume\n",
              "Date                                                  \n",
              "2021-03-18  214.00  218.88  195.65  201.75  11,799,910\n",
              "2021-03-17  217.84  231.47  204.00  209.81  16,481,590\n",
              "2021-03-16  203.16  220.70  172.35  208.17  35,422,871\n",
              "2021-03-15  277.52  283.00  206.00  220.14  24,226,189\n",
              "2021-03-12  275.00  295.50  262.27  264.50  25,845,900"
            ]
          },
          "metadata": {
            "tags": []
          },
          "execution_count": 6
        }
      ]
    },
    {
      "cell_type": "markdown",
      "metadata": {
        "id": "MrB64FJ3Tf7G"
      },
      "source": [
        "# Default Environment"
      ]
    },
    {
      "cell_type": "code",
      "metadata": {
        "id": "oEDNVIRCPBfZ"
      },
      "source": [
        "# stocks-v0: stocks environment. There is also for forex\n",
        "# frame_bound: consdier rows between 1st and 2nd argument. 1st arg must be atleast window_size\n",
        "# window_size: number of previous observations to consdier for prediction\n",
        "env = gym.make('stocks-v0', df=df, frame_bound=(5,50), window_size=5)"
      ],
      "execution_count": null,
      "outputs": []
    },
    {
      "cell_type": "code",
      "metadata": {
        "colab": {
          "base_uri": "https://localhost:8080/"
        },
        "id": "jHOEs0-UPZYa",
        "outputId": "c537f8b2-3c22-4e87-eefe-f1596d242213"
      },
      "source": [
        "# closing prices for each day\n",
        "env.prices"
      ],
      "execution_count": null,
      "outputs": [
        {
          "output_type": "execute_result",
          "data": {
            "text/plain": [
              "array([201.75, 209.81, 208.17, 220.14, 264.5 , 260.  , 265.  , 246.9 ,\n",
              "       194.5 , 137.74, 132.35, 124.18, 118.18, 120.4 , 101.74, 108.73,\n",
              "        91.71,  44.97,  46.  ,  40.59,  40.69,  45.94,  49.51,  52.4 ,\n",
              "        51.1 ,  51.2 ,  50.31,  60.  ,  63.77,  53.5 ,  92.41,  90.  ,\n",
              "       225.  , 325.  , 193.6 , 347.51, 147.98,  76.79,  65.01,  43.03,\n",
              "        39.12,  39.36,  35.5 ,  39.91,  31.4 ,  19.95,  19.94,  17.69,\n",
              "        18.08,  18.36])"
            ]
          },
          "metadata": {
            "tags": []
          },
          "execution_count": 13
        }
      ]
    },
    {
      "cell_type": "code",
      "metadata": {
        "colab": {
          "base_uri": "https://localhost:8080/"
        },
        "id": "95hL_GCyPxma",
        "outputId": "d2598579-2de1-4bc4-9579-645fe505c124"
      },
      "source": [
        "# signal features: price and the difference in price from previous day\n",
        "# Additional signal features can also be added\n",
        "env.signal_features"
      ],
      "execution_count": null,
      "outputs": [
        {
          "output_type": "execute_result",
          "data": {
            "text/plain": [
              "array([[ 2.0175e+02,  0.0000e+00],\n",
              "       [ 2.0981e+02,  8.0600e+00],\n",
              "       [ 2.0817e+02, -1.6400e+00],\n",
              "       [ 2.2014e+02,  1.1970e+01],\n",
              "       [ 2.6450e+02,  4.4360e+01],\n",
              "       [ 2.6000e+02, -4.5000e+00],\n",
              "       [ 2.6500e+02,  5.0000e+00],\n",
              "       [ 2.4690e+02, -1.8100e+01],\n",
              "       [ 1.9450e+02, -5.2400e+01],\n",
              "       [ 1.3774e+02, -5.6760e+01],\n",
              "       [ 1.3235e+02, -5.3900e+00],\n",
              "       [ 1.2418e+02, -8.1700e+00],\n",
              "       [ 1.1818e+02, -6.0000e+00],\n",
              "       [ 1.2040e+02,  2.2200e+00],\n",
              "       [ 1.0174e+02, -1.8660e+01],\n",
              "       [ 1.0873e+02,  6.9900e+00],\n",
              "       [ 9.1710e+01, -1.7020e+01],\n",
              "       [ 4.4970e+01, -4.6740e+01],\n",
              "       [ 4.6000e+01,  1.0300e+00],\n",
              "       [ 4.0590e+01, -5.4100e+00],\n",
              "       [ 4.0690e+01,  1.0000e-01],\n",
              "       [ 4.5940e+01,  5.2500e+00],\n",
              "       [ 4.9510e+01,  3.5700e+00],\n",
              "       [ 5.2400e+01,  2.8900e+00],\n",
              "       [ 5.1100e+01, -1.3000e+00],\n",
              "       [ 5.1200e+01,  1.0000e-01],\n",
              "       [ 5.0310e+01, -8.9000e-01],\n",
              "       [ 6.0000e+01,  9.6900e+00],\n",
              "       [ 6.3770e+01,  3.7700e+00],\n",
              "       [ 5.3500e+01, -1.0270e+01],\n",
              "       [ 9.2410e+01,  3.8910e+01],\n",
              "       [ 9.0000e+01, -2.4100e+00],\n",
              "       [ 2.2500e+02,  1.3500e+02],\n",
              "       [ 3.2500e+02,  1.0000e+02],\n",
              "       [ 1.9360e+02, -1.3140e+02],\n",
              "       [ 3.4751e+02,  1.5391e+02],\n",
              "       [ 1.4798e+02, -1.9953e+02],\n",
              "       [ 7.6790e+01, -7.1190e+01],\n",
              "       [ 6.5010e+01, -1.1780e+01],\n",
              "       [ 4.3030e+01, -2.1980e+01],\n",
              "       [ 3.9120e+01, -3.9100e+00],\n",
              "       [ 3.9360e+01,  2.4000e-01],\n",
              "       [ 3.5500e+01, -3.8600e+00],\n",
              "       [ 3.9910e+01,  4.4100e+00],\n",
              "       [ 3.1400e+01, -8.5100e+00],\n",
              "       [ 1.9950e+01, -1.1450e+01],\n",
              "       [ 1.9940e+01, -1.0000e-02],\n",
              "       [ 1.7690e+01, -2.2500e+00],\n",
              "       [ 1.8080e+01,  3.9000e-01],\n",
              "       [ 1.8360e+01,  2.8000e-01]])"
            ]
          },
          "metadata": {
            "tags": []
          },
          "execution_count": 14
        }
      ]
    },
    {
      "cell_type": "markdown",
      "metadata": {
        "id": "nv4VJjRVTYdP"
      },
      "source": [
        "# Build Environment"
      ]
    },
    {
      "cell_type": "code",
      "metadata": {
        "colab": {
          "base_uri": "https://localhost:8080/"
        },
        "id": "94NLqnpKTKoH",
        "outputId": "ca44d11c-b5b5-49e0-f7f5-d9fa8298fb83"
      },
      "source": [
        "# initializes environment: first 5 observations as window_size = 5 \n",
        "state = env.reset()\n",
        "state"
      ],
      "execution_count": null,
      "outputs": [
        {
          "output_type": "execute_result",
          "data": {
            "text/plain": [
              "array([[201.75,   0.  ],\n",
              "       [209.81,   8.06],\n",
              "       [208.17,  -1.64],\n",
              "       [220.14,  11.97],\n",
              "       [264.5 ,  44.36]])"
            ]
          },
          "metadata": {
            "tags": []
          },
          "execution_count": 15
        }
      ]
    },
    {
      "cell_type": "code",
      "metadata": {
        "colab": {
          "base_uri": "https://localhost:8080/"
        },
        "id": "h3STgVP0UC7J",
        "outputId": "3754f888-edd5-457a-8812-03ae7584efb9"
      },
      "source": [
        "# action space consists of 2 values. Buy, Sell\n",
        "env.action_space"
      ],
      "execution_count": null,
      "outputs": [
        {
          "output_type": "execute_result",
          "data": {
            "text/plain": [
              "Discrete(2)"
            ]
          },
          "metadata": {
            "tags": []
          },
          "execution_count": 19
        }
      ]
    },
    {
      "cell_type": "code",
      "metadata": {
        "colab": {
          "base_uri": "https://localhost:8080/"
        },
        "id": "dks1BmCkTsYc",
        "outputId": "ebe2fe0b-9459-42e6-f1f0-d516a17a39a1"
      },
      "source": [
        "while True:\n",
        "    # randomly selecting an action\n",
        "    action = env.action_space.sample()\n",
        "    # result of taking this action in the environment\n",
        "    # n_state: current state after taking the action\n",
        "    # done: if it has ended, then True\n",
        "    # info: information of RL agent\n",
        "    n_state, reward, done, info = env.step(action)\n",
        "    if done: \n",
        "        print('info: ', info)\n",
        "        break"
      ],
      "execution_count": null,
      "outputs": [
        {
          "output_type": "stream",
          "text": [
            "info:  {'total_reward': -41.780000000000015, 'total_profit': 1.0232392466705853, 'position': 0}\n"
          ],
          "name": "stdout"
        }
      ]
    },
    {
      "cell_type": "markdown",
      "metadata": {
        "id": "i1PmaDwRVER6"
      },
      "source": [
        "The model made a profit of 2.3% (total_profit - 1) by taking random actions"
      ]
    },
    {
      "cell_type": "code",
      "metadata": {
        "colab": {
          "base_uri": "https://localhost:8080/",
          "height": 417
        },
        "id": "4bCvii4gVBzo",
        "outputId": "7c3dec5e-7d11-4ef1-c6e6-f661ad029ad3"
      },
      "source": [
        "# Visualizing the agent's actions\n",
        "plt.figure(figsize=(15,6))\n",
        "env.render_all()\n",
        "plt.show()"
      ],
      "execution_count": null,
      "outputs": [
        {
          "output_type": "display_data",
          "data": {
            "image/png": "[encoded data removed]",
            "text/plain": [
              "<Figure size 1080x432 with 1 Axes>"
            ]
          },
          "metadata": {
            "tags": [],
            "needs_background": "light"
          }
        }
      ]
    },
    {
      "cell_type": "markdown",
      "metadata": {
        "id": "BRXrhfBNV-HC"
      },
      "source": [
        "Red is shorting. Green is long term. "
      ]
    },
    {
      "cell_type": "markdown",
      "metadata": {
        "id": "KamWw9fnt0mR"
      },
      "source": [
        "# Adding Custom Indicators"
      ]
    },
    {
      "cell_type": "markdown",
      "metadata": {
        "id": "GwhvyCCOO_UE"
      },
      "source": [
        "## Install and Import Dependencies"
      ]
    },
    {
      "cell_type": "code",
      "metadata": {
        "colab": {
          "base_uri": "https://localhost:8080/"
        },
        "id": "S1rBIwjesrAW",
        "outputId": "003d2416-55d4-4904-85fc-60c5f379a981"
      },
      "source": [
        "!pip install finta"
      ],
      "execution_count": null,
      "outputs": [
        {
          "output_type": "stream",
          "text": [
            "Collecting finta\n",
            "  Downloading https://files.pythonhosted.org/packages/d0/6b/1142971fc9567e58fb5a2362cbb44b826b77da543c38b501d653104c112e/finta-1.2-py3-none-any.whl\n",
            "Requirement already satisfied: numpy in /usr/local/lib/python3.7/dist-packages (from finta) (1.19.5)\n",
            "Requirement already satisfied: pandas in /usr/local/lib/python3.7/dist-packages (from finta) (1.1.5)\n",
            "Requirement already satisfied: python-dateutil>=2.7.3 in /usr/local/lib/python3.7/dist-packages (from pandas->finta) (2.8.1)\n",
            "Requirement already satisfied: pytz>=2017.2 in /usr/local/lib/python3.7/dist-packages (from pandas->finta) (2018.9)\n",
            "Requirement already satisfied: six>=1.5 in /usr/local/lib/python3.7/dist-packages (from python-dateutil>=2.7.3->pandas->finta) (1.15.0)\n",
            "Installing collected packages: finta\n",
            "Successfully installed finta-1.2\n"
          ],
          "name": "stdout"
        }
      ]
    },
    {
      "cell_type": "code",
      "metadata": {
        "id": "NxwiGCn2PIjy"
      },
      "source": [
        "from gym_anytrading.envs import StocksEnv\n",
        "from finta import TA"
      ],
      "execution_count": null,
      "outputs": []
    },
    {
      "cell_type": "markdown",
      "metadata": {
        "id": "Eea8KSF3Pdsf"
      },
      "source": [
        "## Fix Volume Column"
      ]
    },
    {
      "cell_type": "code",
      "metadata": {
        "colab": {
          "base_uri": "https://localhost:8080/"
        },
        "id": "PMthj9j4PamR",
        "outputId": "eae1e3aa-81e0-4bf0-b9b9-5c5056718b24"
      },
      "source": [
        "df.dtypes"
      ],
      "execution_count": null,
      "outputs": [
        {
          "output_type": "execute_result",
          "data": {
            "text/plain": [
              "Open      float64\n",
              "High      float64\n",
              "Low       float64\n",
              "Close     float64\n",
              "Volume     object\n",
              "dtype: object"
            ]
          },
          "metadata": {
            "tags": []
          },
          "execution_count": 55
        }
      ]
    },
    {
      "cell_type": "code",
      "metadata": {
        "colab": {
          "base_uri": "https://localhost:8080/"
        },
        "id": "hnIGwItxPi40",
        "outputId": "30b32809-28c1-48ec-d7e2-fb22b913b87b"
      },
      "source": [
        "# Volume is a string. Neeed to convert into float for technical indicators to work\n",
        "df['Volume'] = df['Volume'].apply(lambda x: float(x))\n",
        "df['Volume']"
      ],
      "execution_count": null,
      "outputs": [
        {
          "output_type": "execute_result",
          "data": {
            "text/plain": [
              "Date\n",
              "2021-01-04     10022470.0\n",
              "2021-01-05      4961457.0\n",
              "2021-01-06      6056248.0\n",
              "2021-01-07      6129276.0\n",
              "2021-01-08      6481960.0\n",
              "2021-01-11     14927610.0\n",
              "2021-01-12      7060665.0\n",
              "2021-01-13    144501703.0\n",
              "2021-01-14     93717406.0\n",
              "2021-01-15     46866359.0\n",
              "2021-01-19     74721922.0\n",
              "2021-01-20     33471789.0\n",
              "2021-01-21     57079754.0\n",
              "2021-01-22    197157906.0\n",
              "2021-01-25    177874000.0\n",
              "2021-01-26    178588000.0\n",
              "2021-01-27     93396672.0\n",
              "2021-01-28     58815809.0\n",
              "2021-01-29     50566059.0\n",
              "2021-02-01     37382152.0\n",
              "2021-02-02     78183070.0\n",
              "2021-02-03     42698512.0\n",
              "2021-02-04     62427281.0\n",
              "2021-02-05     81345008.0\n",
              "2021-02-08     25687279.0\n",
              "2021-02-09     26843080.0\n",
              "2021-02-10     36455039.0\n",
              "2021-02-11     13056730.0\n",
              "2021-02-12     14573260.0\n",
              "2021-02-16      8175030.0\n",
              "2021-02-17      9260795.0\n",
              "2021-02-18     23990561.0\n",
              "2021-02-19     14828240.0\n",
              "2021-02-22     19476020.0\n",
              "2021-02-23      7565215.0\n",
              "2021-02-24     83111742.0\n",
              "2021-02-25    150308797.0\n",
              "2021-02-26     92194148.0\n",
              "2021-03-01     49793969.0\n",
              "2021-03-02     33783039.0\n",
              "2021-03-03     19273881.0\n",
              "2021-03-04     32606891.0\n",
              "2021-03-05     30733670.0\n",
              "2021-03-08     63565621.0\n",
              "2021-03-09     39099328.0\n",
              "2021-03-10     71570570.0\n",
              "2021-03-11     28312490.0\n",
              "2021-03-12     25845900.0\n",
              "2021-03-15     24226189.0\n",
              "2021-03-16     35422871.0\n",
              "2021-03-17     16481590.0\n",
              "2021-03-18     11799910.0\n",
              "Name: Volume, dtype: float64"
            ]
          },
          "metadata": {
            "tags": []
          },
          "execution_count": 64
        }
      ]
    },
    {
      "cell_type": "code",
      "metadata": {
        "colab": {
          "base_uri": "https://localhost:8080/"
        },
        "id": "rsJJFhkiPi08",
        "outputId": "b1d388c5-cbae-498b-ad2a-92e63c415501"
      },
      "source": [
        "df.dtypes"
      ],
      "execution_count": null,
      "outputs": [
        {
          "output_type": "execute_result",
          "data": {
            "text/plain": [
              "Open      float64\n",
              "High      float64\n",
              "Low       float64\n",
              "Close     float64\n",
              "Volume    float64\n",
              "dtype: object"
            ]
          },
          "metadata": {
            "tags": []
          },
          "execution_count": 65
        }
      ]
    },
    {
      "cell_type": "markdown",
      "metadata": {
        "id": "sm1pXm2kRD0N"
      },
      "source": [
        "## Calculate SMA, RSI, and OBV"
      ]
    },
    {
      "cell_type": "code",
      "metadata": {
        "colab": {
          "base_uri": "https://localhost:8080/",
          "height": 521
        },
        "id": "C-uaDJLzPiy0",
        "outputId": "11ec424c-12cc-4610-f1ff-af08de0e7af5"
      },
      "source": [
        "# For simple moving average (SMA), windows size is 12. So, first 11 entries will be NaN \n",
        "df['SMA'] = TA.SMA(df, 12)\n",
        "# Relative strength index\n",
        "df['RSI'] = TA.RSI(df)\n",
        "# On balance volume\n",
        "df['OBV'] = TA.OBV(df)\n",
        "df.head(15)"
      ],
      "execution_count": null,
      "outputs": [
        {
          "output_type": "execute_result",
          "data": {
            "text/html": [
              "<div>\n",
              "<style scoped>\n",
              "    .dataframe tbody tr th:only-of-type {\n",
              "        vertical-align: middle;\n",
              "    }\n",
              "\n",
              "    .dataframe tbody tr th {\n",
              "        vertical-align: top;\n",
              "    }\n",
              "\n",
              "    .dataframe thead th {\n",
              "        text-align: right;\n",
              "    }\n",
              "</style>\n",
              "<table border=\"1\" class=\"dataframe\">\n",
              "  <thead>\n",
              "    <tr style=\"text-align: right;\">\n",
              "      <th></th>\n",
              "      <th>Open</th>\n",
              "      <th>High</th>\n",
              "      <th>Low</th>\n",
              "      <th>Close</th>\n",
              "      <th>Volume</th>\n",
              "      <th>SMA</th>\n",
              "      <th>RSI</th>\n",
              "      <th>OBV</th>\n",
              "    </tr>\n",
              "    <tr>\n",
              "      <th>Date</th>\n",
              "      <th></th>\n",
              "      <th></th>\n",
              "      <th></th>\n",
              "      <th></th>\n",
              "      <th></th>\n",
              "      <th></th>\n",
              "      <th></th>\n",
              "      <th></th>\n",
              "    </tr>\n",
              "  </thead>\n",
              "  <tbody>\n",
              "    <tr>\n",
              "      <th>2021-01-04</th>\n",
              "      <td>19.00</td>\n",
              "      <td>19.10</td>\n",
              "      <td>17.15</td>\n",
              "      <td>17.25</td>\n",
              "      <td>10022470.0</td>\n",
              "      <td>NaN</td>\n",
              "      <td>NaN</td>\n",
              "      <td>NaN</td>\n",
              "    </tr>\n",
              "    <tr>\n",
              "      <th>2021-01-05</th>\n",
              "      <td>17.35</td>\n",
              "      <td>18.08</td>\n",
              "      <td>17.23</td>\n",
              "      <td>17.37</td>\n",
              "      <td>4961457.0</td>\n",
              "      <td>NaN</td>\n",
              "      <td>100.000000</td>\n",
              "      <td>4961457.0</td>\n",
              "    </tr>\n",
              "    <tr>\n",
              "      <th>2021-01-06</th>\n",
              "      <td>17.34</td>\n",
              "      <td>18.98</td>\n",
              "      <td>17.33</td>\n",
              "      <td>18.36</td>\n",
              "      <td>6056248.0</td>\n",
              "      <td>NaN</td>\n",
              "      <td>100.000000</td>\n",
              "      <td>11017705.0</td>\n",
              "    </tr>\n",
              "    <tr>\n",
              "      <th>2021-01-07</th>\n",
              "      <td>18.47</td>\n",
              "      <td>19.45</td>\n",
              "      <td>18.02</td>\n",
              "      <td>18.08</td>\n",
              "      <td>6129276.0</td>\n",
              "      <td>NaN</td>\n",
              "      <td>78.507089</td>\n",
              "      <td>4888429.0</td>\n",
              "    </tr>\n",
              "    <tr>\n",
              "      <th>2021-01-08</th>\n",
              "      <td>18.18</td>\n",
              "      <td>18.30</td>\n",
              "      <td>17.08</td>\n",
              "      <td>17.69</td>\n",
              "      <td>6481960.0</td>\n",
              "      <td>NaN</td>\n",
              "      <td>59.367411</td>\n",
              "      <td>-1593531.0</td>\n",
              "    </tr>\n",
              "    <tr>\n",
              "      <th>2021-01-11</th>\n",
              "      <td>19.41</td>\n",
              "      <td>20.65</td>\n",
              "      <td>19.01</td>\n",
              "      <td>19.94</td>\n",
              "      <td>14927610.0</td>\n",
              "      <td>NaN</td>\n",
              "      <td>83.842012</td>\n",
              "      <td>13334079.0</td>\n",
              "    </tr>\n",
              "    <tr>\n",
              "      <th>2021-01-12</th>\n",
              "      <td>19.96</td>\n",
              "      <td>20.40</td>\n",
              "      <td>19.32</td>\n",
              "      <td>19.95</td>\n",
              "      <td>7060665.0</td>\n",
              "      <td>NaN</td>\n",
              "      <td>83.888461</td>\n",
              "      <td>20394744.0</td>\n",
              "    </tr>\n",
              "    <tr>\n",
              "      <th>2021-01-13</th>\n",
              "      <td>20.42</td>\n",
              "      <td>38.65</td>\n",
              "      <td>20.03</td>\n",
              "      <td>31.40</td>\n",
              "      <td>144501703.0</td>\n",
              "      <td>NaN</td>\n",
              "      <td>96.454897</td>\n",
              "      <td>164896447.0</td>\n",
              "    </tr>\n",
              "    <tr>\n",
              "      <th>2021-01-14</th>\n",
              "      <td>38.09</td>\n",
              "      <td>43.06</td>\n",
              "      <td>33.05</td>\n",
              "      <td>39.91</td>\n",
              "      <td>93717406.0</td>\n",
              "      <td>NaN</td>\n",
              "      <td>97.817439</td>\n",
              "      <td>258613853.0</td>\n",
              "    </tr>\n",
              "    <tr>\n",
              "      <th>2021-01-15</th>\n",
              "      <td>38.49</td>\n",
              "      <td>40.75</td>\n",
              "      <td>34.01</td>\n",
              "      <td>35.50</td>\n",
              "      <td>46866359.0</td>\n",
              "      <td>NaN</td>\n",
              "      <td>80.541729</td>\n",
              "      <td>211747494.0</td>\n",
              "    </tr>\n",
              "    <tr>\n",
              "      <th>2021-01-19</th>\n",
              "      <td>41.55</td>\n",
              "      <td>45.52</td>\n",
              "      <td>36.64</td>\n",
              "      <td>39.36</td>\n",
              "      <td>74721922.0</td>\n",
              "      <td>NaN</td>\n",
              "      <td>83.318764</td>\n",
              "      <td>286469416.0</td>\n",
              "    </tr>\n",
              "    <tr>\n",
              "      <th>2021-01-20</th>\n",
              "      <td>37.37</td>\n",
              "      <td>41.19</td>\n",
              "      <td>36.06</td>\n",
              "      <td>39.12</td>\n",
              "      <td>33471789.0</td>\n",
              "      <td>26.160833</td>\n",
              "      <td>82.530089</td>\n",
              "      <td>252997627.0</td>\n",
              "    </tr>\n",
              "    <tr>\n",
              "      <th>2021-01-21</th>\n",
              "      <td>39.23</td>\n",
              "      <td>44.75</td>\n",
              "      <td>37.00</td>\n",
              "      <td>43.03</td>\n",
              "      <td>57079754.0</td>\n",
              "      <td>28.309167</td>\n",
              "      <td>85.018198</td>\n",
              "      <td>310077381.0</td>\n",
              "    </tr>\n",
              "    <tr>\n",
              "      <th>2021-01-22</th>\n",
              "      <td>42.59</td>\n",
              "      <td>76.76</td>\n",
              "      <td>42.32</td>\n",
              "      <td>65.01</td>\n",
              "      <td>197157906.0</td>\n",
              "      <td>32.279167</td>\n",
              "      <td>91.954837</td>\n",
              "      <td>507235287.0</td>\n",
              "    </tr>\n",
              "    <tr>\n",
              "      <th>2021-01-25</th>\n",
              "      <td>96.73</td>\n",
              "      <td>159.18</td>\n",
              "      <td>61.13</td>\n",
              "      <td>76.79</td>\n",
              "      <td>177874000.0</td>\n",
              "      <td>37.148333</td>\n",
              "      <td>93.651386</td>\n",
              "      <td>685109287.0</td>\n",
              "    </tr>\n",
              "  </tbody>\n",
              "</table>\n",
              "</div>"
            ],
            "text/plain": [
              "             Open    High    Low  ...        SMA         RSI          OBV\n",
              "Date                              ...                                    \n",
              "2021-01-04  19.00   19.10  17.15  ...        NaN         NaN          NaN\n",
              "2021-01-05  17.35   18.08  17.23  ...        NaN  100.000000    4961457.0\n",
              "2021-01-06  17.34   18.98  17.33  ...        NaN  100.000000   11017705.0\n",
              "2021-01-07  18.47   19.45  18.02  ...        NaN   78.507089    4888429.0\n",
              "2021-01-08  18.18   18.30  17.08  ...        NaN   59.367411   -1593531.0\n",
              "2021-01-11  19.41   20.65  19.01  ...        NaN   83.842012   13334079.0\n",
              "2021-01-12  19.96   20.40  19.32  ...        NaN   83.888461   20394744.0\n",
              "2021-01-13  20.42   38.65  20.03  ...        NaN   96.454897  164896447.0\n",
              "2021-01-14  38.09   43.06  33.05  ...        NaN   97.817439  258613853.0\n",
              "2021-01-15  38.49   40.75  34.01  ...        NaN   80.541729  211747494.0\n",
              "2021-01-19  41.55   45.52  36.64  ...        NaN   83.318764  286469416.0\n",
              "2021-01-20  37.37   41.19  36.06  ...  26.160833   82.530089  252997627.0\n",
              "2021-01-21  39.23   44.75  37.00  ...  28.309167   85.018198  310077381.0\n",
              "2021-01-22  42.59   76.76  42.32  ...  32.279167   91.954837  507235287.0\n",
              "2021-01-25  96.73  159.18  61.13  ...  37.148333   93.651386  685109287.0\n",
              "\n",
              "[15 rows x 8 columns]"
            ]
          },
          "metadata": {
            "tags": []
          },
          "execution_count": 67
        }
      ]
    },
    {
      "cell_type": "code",
      "metadata": {
        "colab": {
          "base_uri": "https://localhost:8080/",
          "height": 521
        },
        "id": "I5Ia_ONWRX0h",
        "outputId": "1e3c2325-3da4-4848-f23a-42b80eded09d"
      },
      "source": [
        "df.fillna(0, inplace=True)\n",
        "df.head(15)"
      ],
      "execution_count": null,
      "outputs": [
        {
          "output_type": "execute_result",
          "data": {
            "text/html": [
              "<div>\n",
              "<style scoped>\n",
              "    .dataframe tbody tr th:only-of-type {\n",
              "        vertical-align: middle;\n",
              "    }\n",
              "\n",
              "    .dataframe tbody tr th {\n",
              "        vertical-align: top;\n",
              "    }\n",
              "\n",
              "    .dataframe thead th {\n",
              "        text-align: right;\n",
              "    }\n",
              "</style>\n",
              "<table border=\"1\" class=\"dataframe\">\n",
              "  <thead>\n",
              "    <tr style=\"text-align: right;\">\n",
              "      <th></th>\n",
              "      <th>Open</th>\n",
              "      <th>High</th>\n",
              "      <th>Low</th>\n",
              "      <th>Close</th>\n",
              "      <th>Volume</th>\n",
              "      <th>SMA</th>\n",
              "      <th>RSI</th>\n",
              "      <th>OBV</th>\n",
              "    </tr>\n",
              "    <tr>\n",
              "      <th>Date</th>\n",
              "      <th></th>\n",
              "      <th></th>\n",
              "      <th></th>\n",
              "      <th></th>\n",
              "      <th></th>\n",
              "      <th></th>\n",
              "      <th></th>\n",
              "      <th></th>\n",
              "    </tr>\n",
              "  </thead>\n",
              "  <tbody>\n",
              "    <tr>\n",
              "      <th>2021-01-04</th>\n",
              "      <td>19.00</td>\n",
              "      <td>19.10</td>\n",
              "      <td>17.15</td>\n",
              "      <td>17.25</td>\n",
              "      <td>10022470.0</td>\n",
              "      <td>0.000000</td>\n",
              "      <td>0.000000</td>\n",
              "      <td>0.0</td>\n",
              "    </tr>\n",
              "    <tr>\n",
              "      <th>2021-01-05</th>\n",
              "      <td>17.35</td>\n",
              "      <td>18.08</td>\n",
              "      <td>17.23</td>\n",
              "      <td>17.37</td>\n",
              "      <td>4961457.0</td>\n",
              "      <td>0.000000</td>\n",
              "      <td>100.000000</td>\n",
              "      <td>4961457.0</td>\n",
              "    </tr>\n",
              "    <tr>\n",
              "      <th>2021-01-06</th>\n",
              "      <td>17.34</td>\n",
              "      <td>18.98</td>\n",
              "      <td>17.33</td>\n",
              "      <td>18.36</td>\n",
              "      <td>6056248.0</td>\n",
              "      <td>0.000000</td>\n",
              "      <td>100.000000</td>\n",
              "      <td>11017705.0</td>\n",
              "    </tr>\n",
              "    <tr>\n",
              "      <th>2021-01-07</th>\n",
              "      <td>18.47</td>\n",
              "      <td>19.45</td>\n",
              "      <td>18.02</td>\n",
              "      <td>18.08</td>\n",
              "      <td>6129276.0</td>\n",
              "      <td>0.000000</td>\n",
              "      <td>78.507089</td>\n",
              "      <td>4888429.0</td>\n",
              "    </tr>\n",
              "    <tr>\n",
              "      <th>2021-01-08</th>\n",
              "      <td>18.18</td>\n",
              "      <td>18.30</td>\n",
              "      <td>17.08</td>\n",
              "      <td>17.69</td>\n",
              "      <td>6481960.0</td>\n",
              "      <td>0.000000</td>\n",
              "      <td>59.367411</td>\n",
              "      <td>-1593531.0</td>\n",
              "    </tr>\n",
              "    <tr>\n",
              "      <th>2021-01-11</th>\n",
              "      <td>19.41</td>\n",
              "      <td>20.65</td>\n",
              "      <td>19.01</td>\n",
              "      <td>19.94</td>\n",
              "      <td>14927610.0</td>\n",
              "      <td>0.000000</td>\n",
              "      <td>83.842012</td>\n",
              "      <td>13334079.0</td>\n",
              "    </tr>\n",
              "    <tr>\n",
              "      <th>2021-01-12</th>\n",
              "      <td>19.96</td>\n",
              "      <td>20.40</td>\n",
              "      <td>19.32</td>\n",
              "      <td>19.95</td>\n",
              "      <td>7060665.0</td>\n",
              "      <td>0.000000</td>\n",
              "      <td>83.888461</td>\n",
              "      <td>20394744.0</td>\n",
              "    </tr>\n",
              "    <tr>\n",
              "      <th>2021-01-13</th>\n",
              "      <td>20.42</td>\n",
              "      <td>38.65</td>\n",
              "      <td>20.03</td>\n",
              "      <td>31.40</td>\n",
              "      <td>144501703.0</td>\n",
              "      <td>0.000000</td>\n",
              "      <td>96.454897</td>\n",
              "      <td>164896447.0</td>\n",
              "    </tr>\n",
              "    <tr>\n",
              "      <th>2021-01-14</th>\n",
              "      <td>38.09</td>\n",
              "      <td>43.06</td>\n",
              "      <td>33.05</td>\n",
              "      <td>39.91</td>\n",
              "      <td>93717406.0</td>\n",
              "      <td>0.000000</td>\n",
              "      <td>97.817439</td>\n",
              "      <td>258613853.0</td>\n",
              "    </tr>\n",
              "    <tr>\n",
              "      <th>2021-01-15</th>\n",
              "      <td>38.49</td>\n",
              "      <td>40.75</td>\n",
              "      <td>34.01</td>\n",
              "      <td>35.50</td>\n",
              "      <td>46866359.0</td>\n",
              "      <td>0.000000</td>\n",
              "      <td>80.541729</td>\n",
              "      <td>211747494.0</td>\n",
              "    </tr>\n",
              "    <tr>\n",
              "      <th>2021-01-19</th>\n",
              "      <td>41.55</td>\n",
              "      <td>45.52</td>\n",
              "      <td>36.64</td>\n",
              "      <td>39.36</td>\n",
              "      <td>74721922.0</td>\n",
              "      <td>0.000000</td>\n",
              "      <td>83.318764</td>\n",
              "      <td>286469416.0</td>\n",
              "    </tr>\n",
              "    <tr>\n",
              "      <th>2021-01-20</th>\n",
              "      <td>37.37</td>\n",
              "      <td>41.19</td>\n",
              "      <td>36.06</td>\n",
              "      <td>39.12</td>\n",
              "      <td>33471789.0</td>\n",
              "      <td>26.160833</td>\n",
              "      <td>82.530089</td>\n",
              "      <td>252997627.0</td>\n",
              "    </tr>\n",
              "    <tr>\n",
              "      <th>2021-01-21</th>\n",
              "      <td>39.23</td>\n",
              "      <td>44.75</td>\n",
              "      <td>37.00</td>\n",
              "      <td>43.03</td>\n",
              "      <td>57079754.0</td>\n",
              "      <td>28.309167</td>\n",
              "      <td>85.018198</td>\n",
              "      <td>310077381.0</td>\n",
              "    </tr>\n",
              "    <tr>\n",
              "      <th>2021-01-22</th>\n",
              "      <td>42.59</td>\n",
              "      <td>76.76</td>\n",
              "      <td>42.32</td>\n",
              "      <td>65.01</td>\n",
              "      <td>197157906.0</td>\n",
              "      <td>32.279167</td>\n",
              "      <td>91.954837</td>\n",
              "      <td>507235287.0</td>\n",
              "    </tr>\n",
              "    <tr>\n",
              "      <th>2021-01-25</th>\n",
              "      <td>96.73</td>\n",
              "      <td>159.18</td>\n",
              "      <td>61.13</td>\n",
              "      <td>76.79</td>\n",
              "      <td>177874000.0</td>\n",
              "      <td>37.148333</td>\n",
              "      <td>93.651386</td>\n",
              "      <td>685109287.0</td>\n",
              "    </tr>\n",
              "  </tbody>\n",
              "</table>\n",
              "</div>"
            ],
            "text/plain": [
              "             Open    High    Low  ...        SMA         RSI          OBV\n",
              "Date                              ...                                    \n",
              "2021-01-04  19.00   19.10  17.15  ...   0.000000    0.000000          0.0\n",
              "2021-01-05  17.35   18.08  17.23  ...   0.000000  100.000000    4961457.0\n",
              "2021-01-06  17.34   18.98  17.33  ...   0.000000  100.000000   11017705.0\n",
              "2021-01-07  18.47   19.45  18.02  ...   0.000000   78.507089    4888429.0\n",
              "2021-01-08  18.18   18.30  17.08  ...   0.000000   59.367411   -1593531.0\n",
              "2021-01-11  19.41   20.65  19.01  ...   0.000000   83.842012   13334079.0\n",
              "2021-01-12  19.96   20.40  19.32  ...   0.000000   83.888461   20394744.0\n",
              "2021-01-13  20.42   38.65  20.03  ...   0.000000   96.454897  164896447.0\n",
              "2021-01-14  38.09   43.06  33.05  ...   0.000000   97.817439  258613853.0\n",
              "2021-01-15  38.49   40.75  34.01  ...   0.000000   80.541729  211747494.0\n",
              "2021-01-19  41.55   45.52  36.64  ...   0.000000   83.318764  286469416.0\n",
              "2021-01-20  37.37   41.19  36.06  ...  26.160833   82.530089  252997627.0\n",
              "2021-01-21  39.23   44.75  37.00  ...  28.309167   85.018198  310077381.0\n",
              "2021-01-22  42.59   76.76  42.32  ...  32.279167   91.954837  507235287.0\n",
              "2021-01-25  96.73  159.18  61.13  ...  37.148333   93.651386  685109287.0\n",
              "\n",
              "[15 rows x 8 columns]"
            ]
          },
          "metadata": {
            "tags": []
          },
          "execution_count": 69
        }
      ]
    },
    {
      "cell_type": "markdown",
      "metadata": {
        "id": "EN1rZkBiRrSi"
      },
      "source": [
        "## Create Custom Environment"
      ]
    },
    {
      "cell_type": "code",
      "metadata": {
        "id": "1owwHWclRXw9"
      },
      "source": [
        "# function to add signals to the environment\n",
        "def add_signals(env):\n",
        "    # getting start index\n",
        "    start = env.frame_bound[0] - env.window_size\n",
        "    # getting end index\n",
        "    end = env.frame_bound[1]\n",
        "    # using the low column from start to end indices as prices\n",
        "    prices = env.df.loc[:, 'Low'].to_numpy()[start:end]\n",
        "    signal_features = env.df.loc[:, ['Low', 'Volume', 'SMA', 'RSI', 'OBV']].to_numpy()[start:end]\n",
        "    return prices, signal_features"
      ],
      "execution_count": null,
      "outputs": []
    },
    {
      "cell_type": "code",
      "metadata": {
        "id": "UbC5e2ybS8ZX"
      },
      "source": [
        "# creating a custom environment by inheriting from StocksEnv class and modifying _process_data to get the prices and signal \n",
        "# features as decided by add_signals rather than the native signals which are price and change in price from previous step \n",
        "class MyCustomEnv(StocksEnv):\n",
        "    _process_data = add_signals\n",
        "\n",
        "env2 = MyCustomEnv(df=df, window_size=8, frame_bound=(8,40))"
      ],
      "execution_count": null,
      "outputs": []
    },
    {
      "cell_type": "markdown",
      "metadata": {
        "id": "9o__VyEZWO8M"
      },
      "source": [
        "# Build Environment and Train "
      ]
    },
    {
      "cell_type": "code",
      "metadata": {
        "id": "tgqx45Y2V1fT"
      },
      "source": [
        "# training a custom environment\n",
        "env_maker = lambda: env2\n",
        "# training the default environment (with default prices and signal_features)\n",
        "# env_maker = lambda: gym.make('stocks-v0', df=df, frame_bound=(5,70), window_size=5)\n",
        "env = DummyVecEnv([env_maker])"
      ],
      "execution_count": null,
      "outputs": []
    },
    {
      "cell_type": "code",
      "metadata": {
        "colab": {
          "base_uri": "https://localhost:8080/",
          "height": 1000
        },
        "id": "t45jQHMlW5pr",
        "outputId": "d960e469-b8f7-4239-c0d3-fc753e0abe9a"
      },
      "source": [
        "model = A2C('MlpLstmPolicy', env, verbose=1)\n",
        "model.learn(total_timesteps=100000)"
      ],
      "execution_count": null,
      "outputs": [
        {
          "output_type": "stream",
          "text": [
            "---------------------------------\n",
            "| explained_variance | -0.517   |\n",
            "| fps                | 17       |\n",
            "| nupdates           | 1        |\n",
            "| policy_entropy     | 0.692    |\n",
            "| total_timesteps    | 5        |\n",
            "| value_loss         | 37.2     |\n",
            "---------------------------------\n",
            "---------------------------------\n",
            "| explained_variance | -4.6     |\n",
            "| fps                | 296      |\n",
            "| nupdates           | 100      |\n",
            "| policy_entropy     | 0.691    |\n",
            "| total_timesteps    | 500      |\n",
            "| value_loss         | 0.00226  |\n",
            "---------------------------------\n",
            "---------------------------------\n",
            "| explained_variance | -0.00151 |\n",
            "| fps                | 319      |\n",
            "| nupdates           | 200      |\n",
            "| policy_entropy     | 0.691    |\n",
            "| total_timesteps    | 1000     |\n",
            "| value_loss         | 15.8     |\n",
            "---------------------------------\n",
            "----------------------------------\n",
            "| explained_variance | -0.000195 |\n",
            "| fps                | 336       |\n",
            "| nupdates           | 300       |\n",
            "| policy_entropy     | 0.689     |\n",
            "| total_timesteps    | 1500      |\n",
            "| value_loss         | 2.58e+04  |\n",
            "----------------------------------\n",
            "---------------------------------\n",
            "| explained_variance | -0.645   |\n",
            "| fps                | 337      |\n",
            "| nupdates           | 400      |\n",
            "| policy_entropy     | 0.69     |\n",
            "| total_timesteps    | 2000     |\n",
            "| value_loss         | 20.6     |\n",
            "---------------------------------\n",
            "---------------------------------\n",
            "| explained_variance | 0.0131   |\n",
            "| fps                | 339      |\n",
            "| nupdates           | 500      |\n",
            "| policy_entropy     | 0.692    |\n",
            "| total_timesteps    | 2500     |\n",
            "| value_loss         | 15.6     |\n",
            "---------------------------------\n",
            "---------------------------------\n",
            "| explained_variance | 0.00282  |\n",
            "| fps                | 341      |\n",
            "| nupdates           | 600      |\n",
            "| policy_entropy     | 0.69     |\n",
            "| total_timesteps    | 3000     |\n",
            "| value_loss         | 7.23     |\n",
            "---------------------------------\n",
            "---------------------------------\n",
            "| explained_variance | 0.00578  |\n",
            "| fps                | 344      |\n",
            "| nupdates           | 700      |\n",
            "| policy_entropy     | 0.689    |\n",
            "| total_timesteps    | 3500     |\n",
            "| value_loss         | 17       |\n",
            "---------------------------------\n",
            "---------------------------------\n",
            "| explained_variance | -0.00864 |\n",
            "| fps                | 346      |\n",
            "| nupdates           | 800      |\n",
            "| policy_entropy     | 0.675    |\n",
            "| total_timesteps    | 4000     |\n",
            "| value_loss         | 1.02e+03 |\n",
            "---------------------------------\n",
            "---------------------------------\n",
            "| explained_variance | -0.126   |\n",
            "| fps                | 346      |\n",
            "| nupdates           | 900      |\n",
            "| policy_entropy     | 0.691    |\n",
            "| total_timesteps    | 4500     |\n",
            "| value_loss         | 4.51     |\n",
            "---------------------------------\n",
            "---------------------------------\n",
            "| explained_variance | -0.00161 |\n",
            "| fps                | 346      |\n",
            "| nupdates           | 1000     |\n",
            "| policy_entropy     | 0.674    |\n",
            "| total_timesteps    | 5000     |\n",
            "| value_loss         | 1.08e+03 |\n",
            "---------------------------------\n",
            "---------------------------------\n",
            "| explained_variance | -0.0105  |\n",
            "| fps                | 346      |\n",
            "| nupdates           | 1100     |\n",
            "| policy_entropy     | 0.676    |\n",
            "| total_timesteps    | 5500     |\n",
            "| value_loss         | 2.43e+04 |\n",
            "---------------------------------\n",
            "---------------------------------\n",
            "| explained_variance | 0.0354   |\n",
            "| fps                | 347      |\n",
            "| nupdates           | 1200     |\n",
            "| policy_entropy     | 0.418    |\n",
            "| total_timesteps    | 6000     |\n",
            "| value_loss         | 298      |\n",
            "---------------------------------\n",
            "---------------------------------\n",
            "| explained_variance | -415     |\n",
            "| fps                | 347      |\n",
            "| nupdates           | 1300     |\n",
            "| policy_entropy     | 0.0283   |\n",
            "| total_timesteps    | 6500     |\n",
            "| value_loss         | 0.00741  |\n",
            "---------------------------------\n",
            "----------------------------------\n",
            "| explained_variance | -2.01e+03 |\n",
            "| fps                | 349       |\n",
            "| nupdates           | 1400      |\n",
            "| policy_entropy     | 0.0346    |\n",
            "| total_timesteps    | 7000      |\n",
            "| value_loss         | 0.0112    |\n",
            "----------------------------------\n",
            "---------------------------------\n",
            "| explained_variance | -135     |\n",
            "| fps                | 348      |\n",
            "| nupdates           | 1500     |\n",
            "| policy_entropy     | 0.0267   |\n",
            "| total_timesteps    | 7500     |\n",
            "| value_loss         | 0.0282   |\n",
            "---------------------------------\n",
            "---------------------------------\n",
            "| explained_variance | 0.853    |\n",
            "| fps                | 349      |\n",
            "| nupdates           | 1600     |\n",
            "| policy_entropy     | 0.277    |\n",
            "| total_timesteps    | 8000     |\n",
            "| value_loss         | 6.13     |\n",
            "---------------------------------\n",
            "---------------------------------\n",
            "| explained_variance | 0.029    |\n",
            "| fps                | 350      |\n",
            "| nupdates           | 1700     |\n",
            "| policy_entropy     | 0.609    |\n",
            "| total_timesteps    | 8500     |\n",
            "| value_loss         | 540      |\n",
            "---------------------------------\n",
            "---------------------------------\n",
            "| explained_variance | -0.177   |\n",
            "| fps                | 350      |\n",
            "| nupdates           | 1800     |\n",
            "| policy_entropy     | 0.496    |\n",
            "| total_timesteps    | 9000     |\n",
            "| value_loss         | 1.49e+04 |\n",
            "---------------------------------\n",
            "----------------------------------\n",
            "| explained_variance | -1.89e+05 |\n",
            "| fps                | 351       |\n",
            "| nupdates           | 1900      |\n",
            "| policy_entropy     | 0.334     |\n",
            "| total_timesteps    | 9500      |\n",
            "| value_loss         | 56.2      |\n",
            "----------------------------------\n",
            "----------------------------------\n",
            "| explained_variance | -2.03e+04 |\n",
            "| fps                | 352       |\n",
            "| nupdates           | 2000      |\n",
            "| policy_entropy     | 0.0222    |\n",
            "| total_timesteps    | 10000     |\n",
            "| value_loss         | 0.0269    |\n",
            "----------------------------------\n",
            "---------------------------------\n",
            "| explained_variance | -12      |\n",
            "| fps                | 352      |\n",
            "| nupdates           | 2100     |\n",
            "| policy_entropy     | 0.0133   |\n",
            "| total_timesteps    | 10500    |\n",
            "| value_loss         | 0.00497  |\n",
            "---------------------------------\n",
            "---------------------------------\n",
            "| explained_variance | -1.84    |\n",
            "| fps                | 352      |\n",
            "| nupdates           | 2200     |\n",
            "| policy_entropy     | 0.00756  |\n",
            "| total_timesteps    | 11000    |\n",
            "| value_loss         | 4.71e-05 |\n",
            "---------------------------------\n",
            "----------------------------------\n",
            "| explained_variance | -5.17e+03 |\n",
            "| fps                | 353       |\n",
            "| nupdates           | 2300      |\n",
            "| policy_entropy     | 0.00508   |\n",
            "| total_timesteps    | 11500     |\n",
            "| value_loss         | 0.0423    |\n",
            "----------------------------------\n",
            "---------------------------------\n",
            "| explained_variance | 0.993    |\n",
            "| fps                | 353      |\n",
            "| nupdates           | 2400     |\n",
            "| policy_entropy     | 0.276    |\n",
            "| total_timesteps    | 12000    |\n",
            "| value_loss         | 1.15     |\n",
            "---------------------------------\n",
            "---------------------------------\n",
            "| explained_variance | -11      |\n",
            "| fps                | 353      |\n",
            "| nupdates           | 2500     |\n",
            "| policy_entropy     | 0.622    |\n",
            "| total_timesteps    | 12500    |\n",
            "| value_loss         | 27.6     |\n",
            "---------------------------------\n",
            "---------------------------------\n",
            "| explained_variance | 0.288    |\n",
            "| fps                | 353      |\n",
            "| nupdates           | 2600     |\n",
            "| policy_entropy     | 0.332    |\n",
            "| total_timesteps    | 13000    |\n",
            "| value_loss         | 8.52e+03 |\n",
            "---------------------------------\n",
            "---------------------------------\n",
            "| explained_variance | -4.8e+03 |\n",
            "| fps                | 353      |\n",
            "| nupdates           | 2700     |\n",
            "| policy_entropy     | 0.023    |\n",
            "| total_timesteps    | 13500    |\n",
            "| value_loss         | 0.0729   |\n",
            "---------------------------------\n",
            "---------------------------------\n",
            "| explained_variance | -1.35    |\n",
            "| fps                | 353      |\n",
            "| nupdates           | 2800     |\n",
            "| policy_entropy     | 0.00586  |\n",
            "| total_timesteps    | 14000    |\n",
            "| value_loss         | 0.00535  |\n",
            "---------------------------------\n",
            "---------------------------------\n",
            "| explained_variance | -5.44    |\n",
            "| fps                | 354      |\n",
            "| nupdates           | 2900     |\n",
            "| policy_entropy     | 0.0064   |\n",
            "| total_timesteps    | 14500    |\n",
            "| value_loss         | 0.0025   |\n",
            "---------------------------------\n",
            "---------------------------------\n",
            "| explained_variance | 0.215    |\n",
            "| fps                | 354      |\n",
            "| nupdates           | 3000     |\n",
            "| policy_entropy     | 0.00566  |\n",
            "| total_timesteps    | 15000    |\n",
            "| value_loss         | 8.82e-06 |\n",
            "---------------------------------\n",
            "---------------------------------\n",
            "| explained_variance | nan      |\n",
            "| fps                | 354      |\n",
            "| nupdates           | 3100     |\n",
            "| policy_entropy     | 0.00523  |\n",
            "| total_timesteps    | 15500    |\n",
            "| value_loss         | 0.679    |\n",
            "---------------------------------\n",
            "---------------------------------\n",
            "| explained_variance | 0.913    |\n",
            "| fps                | 354      |\n",
            "| nupdates           | 3200     |\n",
            "| policy_entropy     | 0.185    |\n",
            "| total_timesteps    | 16000    |\n",
            "| value_loss         | 16.9     |\n",
            "---------------------------------\n",
            "---------------------------------\n",
            "| explained_variance | 0.291    |\n",
            "| fps                | 354      |\n",
            "| nupdates           | 3300     |\n",
            "| policy_entropy     | 0.568    |\n",
            "| total_timesteps    | 16500    |\n",
            "| value_loss         | 92.9     |\n",
            "---------------------------------\n",
            "----------------------------------\n",
            "| explained_variance | -1.68e+06 |\n",
            "| fps                | 354       |\n",
            "| nupdates           | 3400      |\n",
            "| policy_entropy     | 0.237     |\n",
            "| total_timesteps    | 17000     |\n",
            "| value_loss         | 110       |\n",
            "----------------------------------\n",
            "----------------------------------\n",
            "| explained_variance | -3.03e+04 |\n",
            "| fps                | 354       |\n",
            "| nupdates           | 3500      |\n",
            "| policy_entropy     | 0.00902   |\n",
            "| total_timesteps    | 17500     |\n",
            "| value_loss         | 0.064     |\n",
            "----------------------------------\n",
            "---------------------------------\n",
            "| explained_variance | -570     |\n",
            "| fps                | 354      |\n",
            "| nupdates           | 3600     |\n",
            "| policy_entropy     | 0.00395  |\n",
            "| total_timesteps    | 18000    |\n",
            "| value_loss         | 0.00406  |\n",
            "---------------------------------\n",
            "---------------------------------\n",
            "| explained_variance | -5.44    |\n",
            "| fps                | 354      |\n",
            "| nupdates           | 3700     |\n",
            "| policy_entropy     | 0.00519  |\n",
            "| total_timesteps    | 18500    |\n",
            "| value_loss         | 0.000749 |\n",
            "---------------------------------\n",
            "---------------------------------\n",
            "| explained_variance | -4.71    |\n",
            "| fps                | 353      |\n",
            "| nupdates           | 3800     |\n",
            "| policy_entropy     | 0.00561  |\n",
            "| total_timesteps    | 19000    |\n",
            "| value_loss         | 0.00169  |\n",
            "---------------------------------\n",
            "---------------------------------\n",
            "| explained_variance | 0.973    |\n",
            "| fps                | 353      |\n",
            "| nupdates           | 3900     |\n",
            "| policy_entropy     | 0.0622   |\n",
            "| total_timesteps    | 19500    |\n",
            "| value_loss         | 29.2     |\n",
            "---------------------------------\n",
            "----------------------------------\n",
            "| explained_variance | -1.81e+03 |\n",
            "| fps                | 352       |\n",
            "| nupdates           | 4000      |\n",
            "| policy_entropy     | 0.3       |\n",
            "| total_timesteps    | 20000     |\n",
            "| value_loss         | 226       |\n",
            "----------------------------------\n",
            "---------------------------------\n",
            "| explained_variance | 0.232    |\n",
            "| fps                | 352      |\n",
            "| nupdates           | 4100     |\n",
            "| policy_entropy     | 0.316    |\n",
            "| total_timesteps    | 20500    |\n",
            "| value_loss         | 1.64e+04 |\n",
            "---------------------------------\n",
            "---------------------------------\n",
            "| explained_variance | -3.1e+06 |\n",
            "| fps                | 352      |\n",
            "| nupdates           | 4200     |\n",
            "| policy_entropy     | 0.205    |\n",
            "| total_timesteps    | 21000    |\n",
            "| value_loss         | 1.07     |\n",
            "---------------------------------\n",
            "---------------------------------\n",
            "| explained_variance | -10      |\n",
            "| fps                | 353      |\n",
            "| nupdates           | 4300     |\n",
            "| policy_entropy     | 0.00575  |\n",
            "| total_timesteps    | 21500    |\n",
            "| value_loss         | 0.000747 |\n",
            "---------------------------------\n",
            "---------------------------------\n",
            "| explained_variance | 0.688    |\n",
            "| fps                | 353      |\n",
            "| nupdates           | 4400     |\n",
            "| policy_entropy     | 0.00503  |\n",
            "| total_timesteps    | 22000    |\n",
            "| value_loss         | 0.00246  |\n",
            "---------------------------------\n",
            "---------------------------------\n",
            "| explained_variance | -1.52    |\n",
            "| fps                | 353      |\n",
            "| nupdates           | 4500     |\n",
            "| policy_entropy     | 0.00517  |\n",
            "| total_timesteps    | 22500    |\n",
            "| value_loss         | 0.000737 |\n",
            "---------------------------------\n",
            "---------------------------------\n",
            "| explained_variance | 0.173    |\n",
            "| fps                | 353      |\n",
            "| nupdates           | 4600     |\n",
            "| policy_entropy     | 0.00396  |\n",
            "| total_timesteps    | 23000    |\n",
            "| value_loss         | 0.000718 |\n",
            "---------------------------------\n",
            "---------------------------------\n",
            "| explained_variance | 0.997    |\n",
            "| fps                | 353      |\n",
            "| nupdates           | 4700     |\n",
            "| policy_entropy     | 0.125    |\n",
            "| total_timesteps    | 23500    |\n",
            "| value_loss         | 3.95     |\n",
            "---------------------------------\n",
            "---------------------------------\n",
            "| explained_variance | -1.57    |\n",
            "| fps                | 353      |\n",
            "| nupdates           | 4800     |\n",
            "| policy_entropy     | 0.184    |\n",
            "| total_timesteps    | 24000    |\n",
            "| value_loss         | 7.34     |\n",
            "---------------------------------\n",
            "---------------------------------\n",
            "| explained_variance | 0.565    |\n",
            "| fps                | 353      |\n",
            "| nupdates           | 4900     |\n",
            "| policy_entropy     | 0.372    |\n",
            "| total_timesteps    | 24500    |\n",
            "| value_loss         | 7.4e+03  |\n",
            "---------------------------------\n",
            "----------------------------------\n",
            "| explained_variance | -6.63e+03 |\n",
            "| fps                | 353       |\n",
            "| nupdates           | 5000      |\n",
            "| policy_entropy     | 0.107     |\n",
            "| total_timesteps    | 25000     |\n",
            "| value_loss         | 0.377     |\n",
            "----------------------------------\n",
            "---------------------------------\n",
            "| explained_variance | -9.68    |\n",
            "| fps                | 353      |\n",
            "| nupdates           | 5100     |\n",
            "| policy_entropy     | 0.0018   |\n",
            "| total_timesteps    | 25500    |\n",
            "| value_loss         | 0.00108  |\n",
            "---------------------------------\n",
            "---------------------------------\n",
            "| explained_variance | -1.09    |\n",
            "| fps                | 352      |\n",
            "| nupdates           | 5200     |\n",
            "| policy_entropy     | 0.00241  |\n",
            "| total_timesteps    | 26000    |\n",
            "| value_loss         | 0.00564  |\n",
            "---------------------------------\n",
            "---------------------------------\n",
            "| explained_variance | -369     |\n",
            "| fps                | 352      |\n",
            "| nupdates           | 5300     |\n",
            "| policy_entropy     | 0.0027   |\n",
            "| total_timesteps    | 26500    |\n",
            "| value_loss         | 0.000822 |\n",
            "---------------------------------\n",
            "----------------------------------\n",
            "| explained_variance | -6.65e+05 |\n",
            "| fps                | 352       |\n",
            "| nupdates           | 5400      |\n",
            "| policy_entropy     | 0.00247   |\n",
            "| total_timesteps    | 27000     |\n",
            "| value_loss         | 0.0162    |\n",
            "----------------------------------\n",
            "---------------------------------\n",
            "| explained_variance | 0.972    |\n",
            "| fps                | 352      |\n",
            "| nupdates           | 5500     |\n",
            "| policy_entropy     | 0.337    |\n",
            "| total_timesteps    | 27500    |\n",
            "| value_loss         | 128      |\n",
            "---------------------------------\n",
            "---------------------------------\n",
            "| explained_variance | 0.895    |\n",
            "| fps                | 352      |\n",
            "| nupdates           | 5600     |\n",
            "| policy_entropy     | 0.638    |\n",
            "| total_timesteps    | 28000    |\n",
            "| value_loss         | 26.3     |\n",
            "---------------------------------\n",
            "----------------------------------\n",
            "| explained_variance | -3.16e+08 |\n",
            "| fps                | 352       |\n",
            "| nupdates           | 5700      |\n",
            "| policy_entropy     | 0.132     |\n",
            "| total_timesteps    | 28500     |\n",
            "| value_loss         | 6.37e+03  |\n",
            "----------------------------------\n",
            "----------------------------------\n",
            "| explained_variance | -2.33e+03 |\n",
            "| fps                | 352       |\n",
            "| nupdates           | 5800      |\n",
            "| policy_entropy     | 0.0449    |\n",
            "| total_timesteps    | 29000     |\n",
            "| value_loss         | 0.178     |\n",
            "----------------------------------\n",
            "---------------------------------\n",
            "| explained_variance | 0.0989   |\n",
            "| fps                | 352      |\n",
            "| nupdates           | 5900     |\n",
            "| policy_entropy     | 0.0132   |\n",
            "| total_timesteps    | 29500    |\n",
            "| value_loss         | 0.00029  |\n",
            "---------------------------------\n"
          ],
          "name": "stdout"
        },
        {
          "output_type": "error",
          "ename": "KeyboardInterrupt",
          "evalue": "ignored",
          "traceback": [
            "\u001b[0;31m---------------------------------------------------------------------------\u001b[0m",
            "\u001b[0;31mKeyboardInterrupt\u001b[0m                         Traceback (most recent call last)",
            "\u001b[0;32m<ipython-input-105-ab996c7c98f2>\u001b[0m in \u001b[0;36m<module>\u001b[0;34m()\u001b[0m\n\u001b[1;32m      1\u001b[0m \u001b[0mmodel\u001b[0m \u001b[0;34m=\u001b[0m \u001b[0mA2C\u001b[0m\u001b[0;34m(\u001b[0m\u001b[0;34m'MlpLstmPolicy'\u001b[0m\u001b[0;34m,\u001b[0m \u001b[0menv\u001b[0m\u001b[0;34m,\u001b[0m \u001b[0mverbose\u001b[0m\u001b[0;34m=\u001b[0m\u001b[0;36m1\u001b[0m\u001b[0;34m)\u001b[0m\u001b[0;34m\u001b[0m\u001b[0;34m\u001b[0m\u001b[0m\n\u001b[0;32m----> 2\u001b[0;31m \u001b[0mmodel\u001b[0m\u001b[0;34m.\u001b[0m\u001b[0mlearn\u001b[0m\u001b[0;34m(\u001b[0m\u001b[0mtotal_timesteps\u001b[0m\u001b[0;34m=\u001b[0m\u001b[0;36m100000\u001b[0m\u001b[0;34m)\u001b[0m\u001b[0;34m\u001b[0m\u001b[0;34m\u001b[0m\u001b[0m\n\u001b[0m",
            "\u001b[0;32m/usr/local/lib/python3.7/dist-packages/stable_baselines/a2c/a2c.py\u001b[0m in \u001b[0;36mlearn\u001b[0;34m(self, total_timesteps, callback, log_interval, tb_log_name, reset_num_timesteps)\u001b[0m\n\u001b[1;32m    261\u001b[0m                 \u001b[0mcallback\u001b[0m\u001b[0;34m.\u001b[0m\u001b[0mon_rollout_start\u001b[0m\u001b[0;34m(\u001b[0m\u001b[0;34m)\u001b[0m\u001b[0;34m\u001b[0m\u001b[0;34m\u001b[0m\u001b[0m\n\u001b[1;32m    262\u001b[0m                 \u001b[0;31m# true_reward is the reward without discount\u001b[0m\u001b[0;34m\u001b[0m\u001b[0;34m\u001b[0m\u001b[0;34m\u001b[0m\u001b[0m\n\u001b[0;32m--> 263\u001b[0;31m                 \u001b[0mrollout\u001b[0m \u001b[0;34m=\u001b[0m \u001b[0mself\u001b[0m\u001b[0;34m.\u001b[0m\u001b[0mrunner\u001b[0m\u001b[0;34m.\u001b[0m\u001b[0mrun\u001b[0m\u001b[0;34m(\u001b[0m\u001b[0mcallback\u001b[0m\u001b[0;34m)\u001b[0m\u001b[0;34m\u001b[0m\u001b[0;34m\u001b[0m\u001b[0m\n\u001b[0m\u001b[1;32m    264\u001b[0m                 \u001b[0;31m# unpack\u001b[0m\u001b[0;34m\u001b[0m\u001b[0;34m\u001b[0m\u001b[0;34m\u001b[0m\u001b[0m\n\u001b[1;32m    265\u001b[0m                 \u001b[0mobs\u001b[0m\u001b[0;34m,\u001b[0m \u001b[0mstates\u001b[0m\u001b[0;34m,\u001b[0m \u001b[0mrewards\u001b[0m\u001b[0;34m,\u001b[0m \u001b[0mmasks\u001b[0m\u001b[0;34m,\u001b[0m \u001b[0mactions\u001b[0m\u001b[0;34m,\u001b[0m \u001b[0mvalues\u001b[0m\u001b[0;34m,\u001b[0m \u001b[0mep_infos\u001b[0m\u001b[0;34m,\u001b[0m \u001b[0mtrue_reward\u001b[0m \u001b[0;34m=\u001b[0m \u001b[0mrollout\u001b[0m\u001b[0;34m\u001b[0m\u001b[0;34m\u001b[0m\u001b[0m\n",
            "\u001b[0;32m/usr/local/lib/python3.7/dist-packages/stable_baselines/common/runners.py\u001b[0m in \u001b[0;36mrun\u001b[0;34m(self, callback)\u001b[0m\n\u001b[1;32m     46\u001b[0m         \u001b[0mself\u001b[0m\u001b[0;34m.\u001b[0m\u001b[0mcallback\u001b[0m \u001b[0;34m=\u001b[0m \u001b[0mcallback\u001b[0m\u001b[0;34m\u001b[0m\u001b[0;34m\u001b[0m\u001b[0m\n\u001b[1;32m     47\u001b[0m         \u001b[0mself\u001b[0m\u001b[0;34m.\u001b[0m\u001b[0mcontinue_training\u001b[0m \u001b[0;34m=\u001b[0m \u001b[0;32mTrue\u001b[0m\u001b[0;34m\u001b[0m\u001b[0;34m\u001b[0m\u001b[0m\n\u001b[0;32m---> 48\u001b[0;31m         \u001b[0;32mreturn\u001b[0m \u001b[0mself\u001b[0m\u001b[0;34m.\u001b[0m\u001b[0m_run\u001b[0m\u001b[0;34m(\u001b[0m\u001b[0;34m)\u001b[0m\u001b[0;34m\u001b[0m\u001b[0;34m\u001b[0m\u001b[0m\n\u001b[0m\u001b[1;32m     49\u001b[0m \u001b[0;34m\u001b[0m\u001b[0m\n\u001b[1;32m     50\u001b[0m     \u001b[0;34m@\u001b[0m\u001b[0mabstractmethod\u001b[0m\u001b[0;34m\u001b[0m\u001b[0;34m\u001b[0m\u001b[0m\n",
            "\u001b[0;32m/usr/local/lib/python3.7/dist-packages/stable_baselines/a2c/a2c.py\u001b[0m in \u001b[0;36m_run\u001b[0;34m(self)\u001b[0m\n\u001b[1;32m    350\u001b[0m         \u001b[0mep_infos\u001b[0m \u001b[0;34m=\u001b[0m \u001b[0;34m[\u001b[0m\u001b[0;34m]\u001b[0m\u001b[0;34m\u001b[0m\u001b[0;34m\u001b[0m\u001b[0m\n\u001b[1;32m    351\u001b[0m         \u001b[0;32mfor\u001b[0m \u001b[0m_\u001b[0m \u001b[0;32min\u001b[0m \u001b[0mrange\u001b[0m\u001b[0;34m(\u001b[0m\u001b[0mself\u001b[0m\u001b[0;34m.\u001b[0m\u001b[0mn_steps\u001b[0m\u001b[0;34m)\u001b[0m\u001b[0;34m:\u001b[0m\u001b[0;34m\u001b[0m\u001b[0;34m\u001b[0m\u001b[0m\n\u001b[0;32m--> 352\u001b[0;31m             \u001b[0mactions\u001b[0m\u001b[0;34m,\u001b[0m \u001b[0mvalues\u001b[0m\u001b[0;34m,\u001b[0m \u001b[0mstates\u001b[0m\u001b[0;34m,\u001b[0m \u001b[0m_\u001b[0m \u001b[0;34m=\u001b[0m \u001b[0mself\u001b[0m\u001b[0;34m.\u001b[0m\u001b[0mmodel\u001b[0m\u001b[0;34m.\u001b[0m\u001b[0mstep\u001b[0m\u001b[0;34m(\u001b[0m\u001b[0mself\u001b[0m\u001b[0;34m.\u001b[0m\u001b[0mobs\u001b[0m\u001b[0;34m,\u001b[0m \u001b[0mself\u001b[0m\u001b[0;34m.\u001b[0m\u001b[0mstates\u001b[0m\u001b[0;34m,\u001b[0m \u001b[0mself\u001b[0m\u001b[0;34m.\u001b[0m\u001b[0mdones\u001b[0m\u001b[0;34m)\u001b[0m\u001b[0;34m\u001b[0m\u001b[0;34m\u001b[0m\u001b[0m\n\u001b[0m\u001b[1;32m    353\u001b[0m             \u001b[0mmb_obs\u001b[0m\u001b[0;34m.\u001b[0m\u001b[0mappend\u001b[0m\u001b[0;34m(\u001b[0m\u001b[0mnp\u001b[0m\u001b[0;34m.\u001b[0m\u001b[0mcopy\u001b[0m\u001b[0;34m(\u001b[0m\u001b[0mself\u001b[0m\u001b[0;34m.\u001b[0m\u001b[0mobs\u001b[0m\u001b[0;34m)\u001b[0m\u001b[0;34m)\u001b[0m\u001b[0;34m\u001b[0m\u001b[0;34m\u001b[0m\u001b[0m\n\u001b[1;32m    354\u001b[0m             \u001b[0mmb_actions\u001b[0m\u001b[0;34m.\u001b[0m\u001b[0mappend\u001b[0m\u001b[0;34m(\u001b[0m\u001b[0mactions\u001b[0m\u001b[0;34m)\u001b[0m\u001b[0;34m\u001b[0m\u001b[0;34m\u001b[0m\u001b[0m\n",
            "\u001b[0;32m/usr/local/lib/python3.7/dist-packages/stable_baselines/common/policies.py\u001b[0m in \u001b[0;36mstep\u001b[0;34m(self, obs, state, mask, deterministic)\u001b[0m\n\u001b[1;32m    506\u001b[0m         \u001b[0;32melse\u001b[0m\u001b[0;34m:\u001b[0m\u001b[0;34m\u001b[0m\u001b[0;34m\u001b[0m\u001b[0m\n\u001b[1;32m    507\u001b[0m             return self.sess.run([self.action, self.value_flat, self.snew, self.neglogp],\n\u001b[0;32m--> 508\u001b[0;31m                                  {self.obs_ph: obs, self.states_ph: state, self.dones_ph: mask})\n\u001b[0m\u001b[1;32m    509\u001b[0m \u001b[0;34m\u001b[0m\u001b[0m\n\u001b[1;32m    510\u001b[0m     \u001b[0;32mdef\u001b[0m \u001b[0mproba_step\u001b[0m\u001b[0;34m(\u001b[0m\u001b[0mself\u001b[0m\u001b[0;34m,\u001b[0m \u001b[0mobs\u001b[0m\u001b[0;34m,\u001b[0m \u001b[0mstate\u001b[0m\u001b[0;34m=\u001b[0m\u001b[0;32mNone\u001b[0m\u001b[0;34m,\u001b[0m \u001b[0mmask\u001b[0m\u001b[0;34m=\u001b[0m\u001b[0;32mNone\u001b[0m\u001b[0;34m)\u001b[0m\u001b[0;34m:\u001b[0m\u001b[0;34m\u001b[0m\u001b[0;34m\u001b[0m\u001b[0m\n",
            "\u001b[0;32m/usr/local/lib/python3.7/dist-packages/tensorflow_core/python/client/session.py\u001b[0m in \u001b[0;36mrun\u001b[0;34m(self, fetches, feed_dict, options, run_metadata)\u001b[0m\n\u001b[1;32m    954\u001b[0m     \u001b[0;32mtry\u001b[0m\u001b[0;34m:\u001b[0m\u001b[0;34m\u001b[0m\u001b[0;34m\u001b[0m\u001b[0m\n\u001b[1;32m    955\u001b[0m       result = self._run(None, fetches, feed_dict, options_ptr,\n\u001b[0;32m--> 956\u001b[0;31m                          run_metadata_ptr)\n\u001b[0m\u001b[1;32m    957\u001b[0m       \u001b[0;32mif\u001b[0m \u001b[0mrun_metadata\u001b[0m\u001b[0;34m:\u001b[0m\u001b[0;34m\u001b[0m\u001b[0;34m\u001b[0m\u001b[0m\n\u001b[1;32m    958\u001b[0m         \u001b[0mproto_data\u001b[0m \u001b[0;34m=\u001b[0m \u001b[0mtf_session\u001b[0m\u001b[0;34m.\u001b[0m\u001b[0mTF_GetBuffer\u001b[0m\u001b[0;34m(\u001b[0m\u001b[0mrun_metadata_ptr\u001b[0m\u001b[0;34m)\u001b[0m\u001b[0;34m\u001b[0m\u001b[0;34m\u001b[0m\u001b[0m\n",
            "\u001b[0;32m/usr/local/lib/python3.7/dist-packages/tensorflow_core/python/client/session.py\u001b[0m in \u001b[0;36m_run\u001b[0;34m(self, handle, fetches, feed_dict, options, run_metadata)\u001b[0m\n\u001b[1;32m   1163\u001b[0m     \u001b[0;31m# Create a fetch handler to take care of the structure of fetches.\u001b[0m\u001b[0;34m\u001b[0m\u001b[0;34m\u001b[0m\u001b[0;34m\u001b[0m\u001b[0m\n\u001b[1;32m   1164\u001b[0m     fetch_handler = _FetchHandler(\n\u001b[0;32m-> 1165\u001b[0;31m         self._graph, fetches, feed_dict_tensor, feed_handles=feed_handles)\n\u001b[0m\u001b[1;32m   1166\u001b[0m \u001b[0;34m\u001b[0m\u001b[0m\n\u001b[1;32m   1167\u001b[0m     \u001b[0;31m# Run request and get response.\u001b[0m\u001b[0;34m\u001b[0m\u001b[0;34m\u001b[0m\u001b[0;34m\u001b[0m\u001b[0m\n",
            "\u001b[0;32m/usr/local/lib/python3.7/dist-packages/tensorflow_core/python/client/session.py\u001b[0m in \u001b[0;36m__init__\u001b[0;34m(self, graph, fetches, feeds, feed_handles)\u001b[0m\n\u001b[1;32m    472\u001b[0m     \"\"\"\n\u001b[1;32m    473\u001b[0m     \u001b[0;32mwith\u001b[0m \u001b[0mgraph\u001b[0m\u001b[0;34m.\u001b[0m\u001b[0mas_default\u001b[0m\u001b[0;34m(\u001b[0m\u001b[0;34m)\u001b[0m\u001b[0;34m:\u001b[0m\u001b[0;34m\u001b[0m\u001b[0;34m\u001b[0m\u001b[0m\n\u001b[0;32m--> 474\u001b[0;31m       \u001b[0mself\u001b[0m\u001b[0;34m.\u001b[0m\u001b[0m_fetch_mapper\u001b[0m \u001b[0;34m=\u001b[0m \u001b[0m_FetchMapper\u001b[0m\u001b[0;34m.\u001b[0m\u001b[0mfor_fetch\u001b[0m\u001b[0;34m(\u001b[0m\u001b[0mfetches\u001b[0m\u001b[0;34m)\u001b[0m\u001b[0;34m\u001b[0m\u001b[0;34m\u001b[0m\u001b[0m\n\u001b[0m\u001b[1;32m    475\u001b[0m     \u001b[0mself\u001b[0m\u001b[0;34m.\u001b[0m\u001b[0m_fetches\u001b[0m \u001b[0;34m=\u001b[0m \u001b[0;34m[\u001b[0m\u001b[0;34m]\u001b[0m\u001b[0;34m\u001b[0m\u001b[0;34m\u001b[0m\u001b[0m\n\u001b[1;32m    476\u001b[0m     \u001b[0mself\u001b[0m\u001b[0;34m.\u001b[0m\u001b[0m_targets\u001b[0m \u001b[0;34m=\u001b[0m \u001b[0;34m[\u001b[0m\u001b[0;34m]\u001b[0m\u001b[0;34m\u001b[0m\u001b[0;34m\u001b[0m\u001b[0m\n",
            "\u001b[0;32m/usr/local/lib/python3.7/dist-packages/tensorflow_core/python/client/session.py\u001b[0m in \u001b[0;36mfor_fetch\u001b[0;34m(fetch)\u001b[0m\n\u001b[1;32m    264\u001b[0m     \u001b[0;32melif\u001b[0m \u001b[0misinstance\u001b[0m\u001b[0;34m(\u001b[0m\u001b[0mfetch\u001b[0m\u001b[0;34m,\u001b[0m \u001b[0;34m(\u001b[0m\u001b[0mlist\u001b[0m\u001b[0;34m,\u001b[0m \u001b[0mtuple\u001b[0m\u001b[0;34m)\u001b[0m\u001b[0;34m)\u001b[0m\u001b[0;34m:\u001b[0m\u001b[0;34m\u001b[0m\u001b[0;34m\u001b[0m\u001b[0m\n\u001b[1;32m    265\u001b[0m       \u001b[0;31m# NOTE(touts): This is also the code path for namedtuples.\u001b[0m\u001b[0;34m\u001b[0m\u001b[0;34m\u001b[0m\u001b[0;34m\u001b[0m\u001b[0m\n\u001b[0;32m--> 266\u001b[0;31m       \u001b[0;32mreturn\u001b[0m \u001b[0m_ListFetchMapper\u001b[0m\u001b[0;34m(\u001b[0m\u001b[0mfetch\u001b[0m\u001b[0;34m)\u001b[0m\u001b[0;34m\u001b[0m\u001b[0;34m\u001b[0m\u001b[0m\n\u001b[0m\u001b[1;32m    267\u001b[0m     \u001b[0;32melif\u001b[0m \u001b[0misinstance\u001b[0m\u001b[0;34m(\u001b[0m\u001b[0mfetch\u001b[0m\u001b[0;34m,\u001b[0m \u001b[0mcollections_abc\u001b[0m\u001b[0;34m.\u001b[0m\u001b[0mMapping\u001b[0m\u001b[0;34m)\u001b[0m\u001b[0;34m:\u001b[0m\u001b[0;34m\u001b[0m\u001b[0;34m\u001b[0m\u001b[0m\n\u001b[1;32m    268\u001b[0m       \u001b[0;32mreturn\u001b[0m \u001b[0m_DictFetchMapper\u001b[0m\u001b[0;34m(\u001b[0m\u001b[0mfetch\u001b[0m\u001b[0;34m)\u001b[0m\u001b[0;34m\u001b[0m\u001b[0;34m\u001b[0m\u001b[0m\n",
            "\u001b[0;32m/usr/local/lib/python3.7/dist-packages/tensorflow_core/python/client/session.py\u001b[0m in \u001b[0;36m__init__\u001b[0;34m(self, fetches)\u001b[0m\n\u001b[1;32m    373\u001b[0m     \"\"\"\n\u001b[1;32m    374\u001b[0m     \u001b[0mself\u001b[0m\u001b[0;34m.\u001b[0m\u001b[0m_fetch_type\u001b[0m \u001b[0;34m=\u001b[0m \u001b[0mtype\u001b[0m\u001b[0;34m(\u001b[0m\u001b[0mfetches\u001b[0m\u001b[0;34m)\u001b[0m\u001b[0;34m\u001b[0m\u001b[0;34m\u001b[0m\u001b[0m\n\u001b[0;32m--> 375\u001b[0;31m     \u001b[0mself\u001b[0m\u001b[0;34m.\u001b[0m\u001b[0m_mappers\u001b[0m \u001b[0;34m=\u001b[0m \u001b[0;34m[\u001b[0m\u001b[0m_FetchMapper\u001b[0m\u001b[0;34m.\u001b[0m\u001b[0mfor_fetch\u001b[0m\u001b[0;34m(\u001b[0m\u001b[0mfetch\u001b[0m\u001b[0;34m)\u001b[0m \u001b[0;32mfor\u001b[0m \u001b[0mfetch\u001b[0m \u001b[0;32min\u001b[0m \u001b[0mfetches\u001b[0m\u001b[0;34m]\u001b[0m\u001b[0;34m\u001b[0m\u001b[0;34m\u001b[0m\u001b[0m\n\u001b[0m\u001b[1;32m    376\u001b[0m     \u001b[0mself\u001b[0m\u001b[0;34m.\u001b[0m\u001b[0m_unique_fetches\u001b[0m\u001b[0;34m,\u001b[0m \u001b[0mself\u001b[0m\u001b[0;34m.\u001b[0m\u001b[0m_value_indices\u001b[0m \u001b[0;34m=\u001b[0m \u001b[0m_uniquify_fetches\u001b[0m\u001b[0;34m(\u001b[0m\u001b[0mself\u001b[0m\u001b[0;34m.\u001b[0m\u001b[0m_mappers\u001b[0m\u001b[0;34m)\u001b[0m\u001b[0;34m\u001b[0m\u001b[0;34m\u001b[0m\u001b[0m\n\u001b[1;32m    377\u001b[0m \u001b[0;34m\u001b[0m\u001b[0m\n",
            "\u001b[0;32m/usr/local/lib/python3.7/dist-packages/tensorflow_core/python/client/session.py\u001b[0m in \u001b[0;36m<listcomp>\u001b[0;34m(.0)\u001b[0m\n\u001b[1;32m    373\u001b[0m     \"\"\"\n\u001b[1;32m    374\u001b[0m     \u001b[0mself\u001b[0m\u001b[0;34m.\u001b[0m\u001b[0m_fetch_type\u001b[0m \u001b[0;34m=\u001b[0m \u001b[0mtype\u001b[0m\u001b[0;34m(\u001b[0m\u001b[0mfetches\u001b[0m\u001b[0;34m)\u001b[0m\u001b[0;34m\u001b[0m\u001b[0;34m\u001b[0m\u001b[0m\n\u001b[0;32m--> 375\u001b[0;31m     \u001b[0mself\u001b[0m\u001b[0;34m.\u001b[0m\u001b[0m_mappers\u001b[0m \u001b[0;34m=\u001b[0m \u001b[0;34m[\u001b[0m\u001b[0m_FetchMapper\u001b[0m\u001b[0;34m.\u001b[0m\u001b[0mfor_fetch\u001b[0m\u001b[0;34m(\u001b[0m\u001b[0mfetch\u001b[0m\u001b[0;34m)\u001b[0m \u001b[0;32mfor\u001b[0m \u001b[0mfetch\u001b[0m \u001b[0;32min\u001b[0m \u001b[0mfetches\u001b[0m\u001b[0;34m]\u001b[0m\u001b[0;34m\u001b[0m\u001b[0;34m\u001b[0m\u001b[0m\n\u001b[0m\u001b[1;32m    376\u001b[0m     \u001b[0mself\u001b[0m\u001b[0;34m.\u001b[0m\u001b[0m_unique_fetches\u001b[0m\u001b[0;34m,\u001b[0m \u001b[0mself\u001b[0m\u001b[0;34m.\u001b[0m\u001b[0m_value_indices\u001b[0m \u001b[0;34m=\u001b[0m \u001b[0m_uniquify_fetches\u001b[0m\u001b[0;34m(\u001b[0m\u001b[0mself\u001b[0m\u001b[0;34m.\u001b[0m\u001b[0m_mappers\u001b[0m\u001b[0;34m)\u001b[0m\u001b[0;34m\u001b[0m\u001b[0;34m\u001b[0m\u001b[0m\n\u001b[1;32m    377\u001b[0m \u001b[0;34m\u001b[0m\u001b[0m\n",
            "\u001b[0;32m/usr/local/lib/python3.7/dist-packages/tensorflow_core/python/client/session.py\u001b[0m in \u001b[0;36mfor_fetch\u001b[0;34m(fetch)\u001b[0m\n\u001b[1;32m    265\u001b[0m       \u001b[0;31m# NOTE(touts): This is also the code path for namedtuples.\u001b[0m\u001b[0;34m\u001b[0m\u001b[0;34m\u001b[0m\u001b[0;34m\u001b[0m\u001b[0m\n\u001b[1;32m    266\u001b[0m       \u001b[0;32mreturn\u001b[0m \u001b[0m_ListFetchMapper\u001b[0m\u001b[0;34m(\u001b[0m\u001b[0mfetch\u001b[0m\u001b[0;34m)\u001b[0m\u001b[0;34m\u001b[0m\u001b[0;34m\u001b[0m\u001b[0m\n\u001b[0;32m--> 267\u001b[0;31m     \u001b[0;32melif\u001b[0m \u001b[0misinstance\u001b[0m\u001b[0;34m(\u001b[0m\u001b[0mfetch\u001b[0m\u001b[0;34m,\u001b[0m \u001b[0mcollections_abc\u001b[0m\u001b[0;34m.\u001b[0m\u001b[0mMapping\u001b[0m\u001b[0;34m)\u001b[0m\u001b[0;34m:\u001b[0m\u001b[0;34m\u001b[0m\u001b[0;34m\u001b[0m\u001b[0m\n\u001b[0m\u001b[1;32m    268\u001b[0m       \u001b[0;32mreturn\u001b[0m \u001b[0m_DictFetchMapper\u001b[0m\u001b[0;34m(\u001b[0m\u001b[0mfetch\u001b[0m\u001b[0;34m)\u001b[0m\u001b[0;34m\u001b[0m\u001b[0;34m\u001b[0m\u001b[0m\n\u001b[1;32m    269\u001b[0m     \u001b[0;32melif\u001b[0m \u001b[0m_is_attrs_instance\u001b[0m\u001b[0;34m(\u001b[0m\u001b[0mfetch\u001b[0m\u001b[0;34m)\u001b[0m\u001b[0;34m:\u001b[0m\u001b[0;34m\u001b[0m\u001b[0;34m\u001b[0m\u001b[0m\n",
            "\u001b[0;32m/usr/lib/python3.7/abc.py\u001b[0m in \u001b[0;36m__instancecheck__\u001b[0;34m(cls, instance)\u001b[0m\n\u001b[1;32m    135\u001b[0m             \u001b[0;32mreturn\u001b[0m \u001b[0m_abc_register\u001b[0m\u001b[0;34m(\u001b[0m\u001b[0mcls\u001b[0m\u001b[0;34m,\u001b[0m \u001b[0msubclass\u001b[0m\u001b[0;34m)\u001b[0m\u001b[0;34m\u001b[0m\u001b[0;34m\u001b[0m\u001b[0m\n\u001b[1;32m    136\u001b[0m \u001b[0;34m\u001b[0m\u001b[0m\n\u001b[0;32m--> 137\u001b[0;31m         \u001b[0;32mdef\u001b[0m \u001b[0m__instancecheck__\u001b[0m\u001b[0;34m(\u001b[0m\u001b[0mcls\u001b[0m\u001b[0;34m,\u001b[0m \u001b[0minstance\u001b[0m\u001b[0;34m)\u001b[0m\u001b[0;34m:\u001b[0m\u001b[0;34m\u001b[0m\u001b[0;34m\u001b[0m\u001b[0m\n\u001b[0m\u001b[1;32m    138\u001b[0m             \u001b[0;34m\"\"\"Override for isinstance(instance, cls).\"\"\"\u001b[0m\u001b[0;34m\u001b[0m\u001b[0;34m\u001b[0m\u001b[0m\n\u001b[1;32m    139\u001b[0m             \u001b[0;32mreturn\u001b[0m \u001b[0m_abc_instancecheck\u001b[0m\u001b[0;34m(\u001b[0m\u001b[0mcls\u001b[0m\u001b[0;34m,\u001b[0m \u001b[0minstance\u001b[0m\u001b[0;34m)\u001b[0m\u001b[0;34m\u001b[0m\u001b[0;34m\u001b[0m\u001b[0m\n",
            "\u001b[0;31mKeyboardInterrupt\u001b[0m: "
          ]
        }
      ]
    },
    {
      "cell_type": "markdown",
      "metadata": {
        "id": "PiS68ehOXi4X"
      },
      "source": [
        "Since, we got explained_variance as 0.972 which is a high value, execution has been interrupted."
      ]
    },
    {
      "cell_type": "markdown",
      "metadata": {
        "id": "pNJe5vn5XXYc"
      },
      "source": [
        "explained_variance: value between 0 and 1. We need a value closer to 1. If so, the model is learning all the patterns in the data. \n",
        "value_loss must be a small value."
      ]
    },
    {
      "cell_type": "markdown",
      "metadata": {
        "id": "asJCJ-AnYWAQ"
      },
      "source": [
        "# Evaluation"
      ]
    },
    {
      "cell_type": "code",
      "metadata": {
        "colab": {
          "base_uri": "https://localhost:8080/"
        },
        "id": "b0URbLwNXGGK",
        "outputId": "b86fd1a9-169b-45b0-fcc4-c32cacbc1aa1"
      },
      "source": [
        "# custom environment\n",
        "env = MyCustomEnv(df=df, window_size=8, frame_bound=(41, 60))\n",
        "# default environment\n",
        "# env = gym.make('stocks-v0', df=df, frame_bound=(49, 52), window_size=5)\n",
        "obs = env.reset()\n",
        "while True:\n",
        "    obs = obs[np.newaxis, ...]\n",
        "    action, _states = model.predict(obs)\n",
        "    obs, reward, done, info = env.step(action)\n",
        "    if done:\n",
        "        print('info', info)\n",
        "        break"
      ],
      "execution_count": null,
      "outputs": [
        {
          "output_type": "stream",
          "text": [
            "info {'total_reward': 81.00999999999999, 'total_profit': 1.8050309773599043, 'position': 1}\n"
          ],
          "name": "stdout"
        }
      ]
    },
    {
      "cell_type": "markdown",
      "metadata": {
        "id": "ABS2MkKiag3P"
      },
      "source": [
        "Default env: This model traded for the last 3 days and lost 2.2% of money.\n",
        "\n",
        "Custom env: Is making significant profits (80%) for days between 41 and 60."
      ]
    },
    {
      "cell_type": "code",
      "metadata": {
        "colab": {
          "base_uri": "https://localhost:8080/",
          "height": 417
        },
        "id": "5U7fytppYSnD",
        "outputId": "448aeec5-7ad4-4998-8893-9e037a5b9302"
      },
      "source": [
        "# custom env\n",
        "plt.figure(figsize=(15,6))\n",
        "env.render_all()\n",
        "plt.show()"
      ],
      "execution_count": null,
      "outputs": [
        {
          "output_type": "display_data",
          "data": {
            "image/png": "[encoded data removed]",
            "text/plain": [
              "<Figure size 1080x432 with 1 Axes>"
            ]
          },
          "metadata": {
            "tags": [],
            "needs_background": "light"
          }
        }
      ]
    },
    {
      "cell_type": "code",
      "metadata": {
        "colab": {
          "base_uri": "https://localhost:8080/",
          "height": 417
        },
        "id": "o-jAJpxdae0V",
        "outputId": "64eee13f-2aee-476d-bc34-84584a7d3f4d"
      },
      "source": [
        "# default env\n",
        "plt.figure(figsize=(15,6))\n",
        "env.render_all()\n",
        "plt.show()"
      ],
      "execution_count": null,
      "outputs": [
        {
          "output_type": "display_data",
          "data": {
            "image/png": "[encoded data removed]",
            "text/plain": [
              "<Figure size 1080x432 with 1 Axes>"
            ]
          },
          "metadata": {
            "tags": [],
            "needs_background": "light"
          }
        }
      ]
    }
  ]
}